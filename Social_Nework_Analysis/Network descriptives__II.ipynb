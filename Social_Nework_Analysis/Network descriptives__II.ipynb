{
 "cells": [
  {
   "cell_type": "markdown",
   "metadata": {},
   "source": [
    "# <center> Network Descriptive Statistics_II </center>"
   ]
  },
  {
   "cell_type": "markdown",
   "metadata": {},
   "source": [
    "## 2. Networks from social media platforms<br>\n",
    "- Large social media platforms are important sources of social networks.\n",
    "- Social networks play an important in collective action and information diffusion. \n",
    "- Here we use the **NETWORKX** to do SNA. https://networkx.org/documentation/stable/reference/introduction.html"
   ]
  },
  {
   "cell_type": "markdown",
   "metadata": {},
   "source": [
    "### 2.1. Extract retweet and mention networks from Twitter data<br>\n",
    "* Retweet edgelist \n",
    "    - Can be directly obtained from Twitter API as a variable <font color='blue'>\"retweeted_status.user.screen_name\"</font>. Remeber when we scrape tweepy we can check if this is a retweet or not. \n",
    "    - Or can be extracted from the **truncated text** using regular expression.\n",
    "    - NOTE: Twitter data only contains the original tweet in retweet relations, meaning we can't retrive the retweet chain. \n",
    "* Mention edgelist\n",
    "    - Can be extracted from the **full text** using regular expression."
   ]
  },
  {
   "cell_type": "code",
   "execution_count": 149,
   "metadata": {},
   "outputs": [],
   "source": [
    "from IPython.core.interactiveshell import InteractiveShell\n",
    "InteractiveShell.ast_node_interactivity = \"all\"\n",
    "\n",
    "import re\n",
    "import numpy as np\n",
    "import networkx as nx\n",
    "import pandas as pd\n",
    "import matplotlib.pyplot as plt\n",
    "from matplotlib.pyplot import figure"
   ]
  },
  {
   "cell_type": "code",
   "execution_count": 150,
   "metadata": {},
   "outputs": [
    {
     "name": "stdout",
     "output_type": "stream",
     "text": [
      "<class 'pandas.core.frame.DataFrame'>\n",
      "RangeIndex: 5674 entries, 0 to 5673\n",
      "Data columns (total 9 columns):\n",
      " #   Column           Non-Null Count  Dtype  \n",
      "---  ------           --------------  -----  \n",
      " 0   tweet_id         5674 non-null   float64\n",
      " 1   user_id          5674 non-null   object \n",
      " 2   screen_name      5674 non-null   object \n",
      " 3   created_at       5674 non-null   object \n",
      " 4   favorite_count   5674 non-null   int64  \n",
      " 5   retweet_count    5674 non-null   int64  \n",
      " 6   text             5674 non-null   object \n",
      " 7   truncated_tweet  5658 non-null   object \n",
      " 8   retweet          5658 non-null   object \n",
      "dtypes: float64(1), int64(2), object(6)\n",
      "memory usage: 399.1+ KB\n"
     ]
    },
    {
     "data": {
      "text/plain": [
       "558"
      ]
     },
     "execution_count": 150,
     "metadata": {},
     "output_type": "execute_result"
    },
    {
     "data": {
      "text/html": [
       "<div>\n",
       "<style scoped>\n",
       "    .dataframe tbody tr th:only-of-type {\n",
       "        vertical-align: middle;\n",
       "    }\n",
       "\n",
       "    .dataframe tbody tr th {\n",
       "        vertical-align: top;\n",
       "    }\n",
       "\n",
       "    .dataframe thead th {\n",
       "        text-align: right;\n",
       "    }\n",
       "</style>\n",
       "<table border=\"1\" class=\"dataframe\">\n",
       "  <thead>\n",
       "    <tr style=\"text-align: right;\">\n",
       "      <th></th>\n",
       "      <th>tweet_id</th>\n",
       "      <th>user_id</th>\n",
       "      <th>screen_name</th>\n",
       "      <th>created_at</th>\n",
       "      <th>favorite_count</th>\n",
       "      <th>retweet_count</th>\n",
       "      <th>text</th>\n",
       "      <th>truncated_tweet</th>\n",
       "      <th>retweet</th>\n",
       "    </tr>\n",
       "  </thead>\n",
       "  <tbody>\n",
       "    <tr>\n",
       "      <th>0</th>\n",
       "      <td>1.230000e+18</td>\n",
       "      <td>2904112697</td>\n",
       "      <td>MMC_Global</td>\n",
       "      <td>3/1/20 20:00</td>\n",
       "      <td>3</td>\n",
       "      <td>1</td>\n",
       "      <td>How will the #coronavirus impact #business and...</td>\n",
       "      <td>How will the #coronavirus impact #business and...</td>\n",
       "      <td>original</td>\n",
       "    </tr>\n",
       "    <tr>\n",
       "      <th>1</th>\n",
       "      <td>1.230000e+18</td>\n",
       "      <td>120578352</td>\n",
       "      <td>CatalentPharma</td>\n",
       "      <td>3/1/20 21:50</td>\n",
       "      <td>1</td>\n",
       "      <td>2</td>\n",
       "      <td>Join us at Gene Therapy for Rare Disorders in ...</td>\n",
       "      <td>Join us at Gene Therapy for Rare Disorders in ...</td>\n",
       "      <td>original</td>\n",
       "    </tr>\n",
       "    <tr>\n",
       "      <th>2</th>\n",
       "      <td>1.230000e+18</td>\n",
       "      <td>151998296</td>\n",
       "      <td>MoodysInvSvc</td>\n",
       "      <td>3/2/20 9:53</td>\n",
       "      <td>1</td>\n",
       "      <td>1</td>\n",
       "      <td>The #coronavirus outbreak will disrupt automot...</td>\n",
       "      <td>The #coronavirus outbreak will disrupt automot...</td>\n",
       "      <td>original</td>\n",
       "    </tr>\n",
       "    <tr>\n",
       "      <th>3</th>\n",
       "      <td>1.230000e+18</td>\n",
       "      <td>337847812</td>\n",
       "      <td>FTI_Global</td>\n",
       "      <td>3/2/20 10:00</td>\n",
       "      <td>1</td>\n",
       "      <td>1</td>\n",
       "      <td>Read why John Beck thinks central banks will ¡...</td>\n",
       "      <td>Read why John Beck thinks central banks will ¡...</td>\n",
       "      <td>original</td>\n",
       "    </tr>\n",
       "    <tr>\n",
       "      <th>4</th>\n",
       "      <td>1.230000e+18</td>\n",
       "      <td>2904112697</td>\n",
       "      <td>MMC_Global</td>\n",
       "      <td>3/2/20 11:00</td>\n",
       "      <td>6</td>\n",
       "      <td>1</td>\n",
       "      <td>To effectively prepare and respond to the thre...</td>\n",
       "      <td>To effectively prepare and respond to the thre...</td>\n",
       "      <td>original</td>\n",
       "    </tr>\n",
       "  </tbody>\n",
       "</table>\n",
       "</div>"
      ],
      "text/plain": [
       "       tweet_id     user_id     screen_name    created_at  favorite_count  \\\n",
       "0  1.230000e+18  2904112697      MMC_Global  3/1/20 20:00               3   \n",
       "1  1.230000e+18   120578352  CatalentPharma  3/1/20 21:50               1   \n",
       "2  1.230000e+18   151998296    MoodysInvSvc   3/2/20 9:53               1   \n",
       "3  1.230000e+18   337847812      FTI_Global  3/2/20 10:00               1   \n",
       "4  1.230000e+18  2904112697      MMC_Global  3/2/20 11:00               6   \n",
       "\n",
       "   retweet_count                                               text  \\\n",
       "0              1  How will the #coronavirus impact #business and...   \n",
       "1              2  Join us at Gene Therapy for Rare Disorders in ...   \n",
       "2              1  The #coronavirus outbreak will disrupt automot...   \n",
       "3              1  Read why John Beck thinks central banks will ¡...   \n",
       "4              1  To effectively prepare and respond to the thre...   \n",
       "\n",
       "                                     truncated_tweet   retweet  \n",
       "0  How will the #coronavirus impact #business and...  original  \n",
       "1  Join us at Gene Therapy for Rare Disorders in ...  original  \n",
       "2  The #coronavirus outbreak will disrupt automot...  original  \n",
       "3  Read why John Beck thinks central banks will ¡...  original  \n",
       "4  To effectively prepare and respond to the thre...  original  "
      ]
     },
     "execution_count": 150,
     "metadata": {},
     "output_type": "execute_result"
    }
   ],
   "source": [
    "# Fortune 1000 U.S. companies' tweets in 2020/3\n",
    "# Filtered the keywords list consisitent with this dataset https://github.com/echen102/COVID-19-TweetIDs\n",
    "\n",
    "df=pd.read_csv('business_tweets.csv',encoding= 'unicode_escape')\n",
    "df.info()\n",
    "len(set(df.screen_name))\n",
    "df.head()"
   ]
  },
  {
   "cell_type": "code",
   "execution_count": 119,
   "metadata": {},
   "outputs": [
    {
     "data": {
      "text/html": [
       "<div>\n",
       "<style scoped>\n",
       "    .dataframe tbody tr th:only-of-type {\n",
       "        vertical-align: middle;\n",
       "    }\n",
       "\n",
       "    .dataframe tbody tr th {\n",
       "        vertical-align: top;\n",
       "    }\n",
       "\n",
       "    .dataframe thead th {\n",
       "        text-align: right;\n",
       "    }\n",
       "</style>\n",
       "<table border=\"1\" class=\"dataframe\">\n",
       "  <thead>\n",
       "    <tr style=\"text-align: right;\">\n",
       "      <th></th>\n",
       "      <th>tweet_id</th>\n",
       "      <th>user_id</th>\n",
       "      <th>screen_name</th>\n",
       "      <th>created_at</th>\n",
       "      <th>favorite_count</th>\n",
       "      <th>retweet_count</th>\n",
       "      <th>text</th>\n",
       "      <th>truncated_tweet</th>\n",
       "      <th>retweet</th>\n",
       "    </tr>\n",
       "  </thead>\n",
       "  <tbody>\n",
       "    <tr>\n",
       "      <th>5</th>\n",
       "      <td>1.230000e+18</td>\n",
       "      <td>48402711</td>\n",
       "      <td>unisyscorp</td>\n",
       "      <td>3/2/20 11:31</td>\n",
       "      <td>0</td>\n",
       "      <td>1</td>\n",
       "      <td>Niranjan Navaratnarajah MBA, Cargo Industry Di...</td>\n",
       "      <td>RT @SurecomMedia09: Niranjan Navaratnarajah MB...</td>\n",
       "      <td>retweet</td>\n",
       "    </tr>\n",
       "    <tr>\n",
       "      <th>7</th>\n",
       "      <td>1.230000e+18</td>\n",
       "      <td>15749983</td>\n",
       "      <td>Cisco</td>\n",
       "      <td>3/2/20 14:15</td>\n",
       "      <td>0</td>\n",
       "      <td>218</td>\n",
       "      <td>Due to the unprecedented and global increase i...</td>\n",
       "      <td>RT @CiscoCollab: Due to the unprecedented and ...</td>\n",
       "      <td>retweet</td>\n",
       "    </tr>\n",
       "    <tr>\n",
       "      <th>8</th>\n",
       "      <td>1.230000e+18</td>\n",
       "      <td>2904112697</td>\n",
       "      <td>MMC_Global</td>\n",
       "      <td>3/2/20 14:29</td>\n",
       "      <td>0</td>\n",
       "      <td>3</td>\n",
       "      <td>#Webcast replay now available: Learn how to pr...</td>\n",
       "      <td>RT @MarshGlobal: #Webcast replay now available...</td>\n",
       "      <td>retweet</td>\n",
       "    </tr>\n",
       "    <tr>\n",
       "      <th>9</th>\n",
       "      <td>1.230000e+18</td>\n",
       "      <td>2904112697</td>\n",
       "      <td>MMC_Global</td>\n",
       "      <td>3/2/20 14:30</td>\n",
       "      <td>0</td>\n",
       "      <td>1</td>\n",
       "      <td>How will the #coronavirus impact #business and...</td>\n",
       "      <td>RT @GuyCarpenter: How will the #coronavirus im...</td>\n",
       "      <td>retweet</td>\n",
       "    </tr>\n",
       "    <tr>\n",
       "      <th>14</th>\n",
       "      <td>1.230000e+18</td>\n",
       "      <td>48402711</td>\n",
       "      <td>unisyscorp</td>\n",
       "      <td>3/2/20 16:28</td>\n",
       "      <td>0</td>\n",
       "      <td>1</td>\n",
       "      <td>A wrap up of @RSAConference #2020: from #Coron...</td>\n",
       "      <td>RT @InformationAge: A wrap up of @RSAConferenc...</td>\n",
       "      <td>retweet</td>\n",
       "    </tr>\n",
       "  </tbody>\n",
       "</table>\n",
       "</div>"
      ],
      "text/plain": [
       "        tweet_id     user_id screen_name    created_at  favorite_count  \\\n",
       "5   1.230000e+18    48402711  unisyscorp  3/2/20 11:31               0   \n",
       "7   1.230000e+18    15749983       Cisco  3/2/20 14:15               0   \n",
       "8   1.230000e+18  2904112697  MMC_Global  3/2/20 14:29               0   \n",
       "9   1.230000e+18  2904112697  MMC_Global  3/2/20 14:30               0   \n",
       "14  1.230000e+18    48402711  unisyscorp  3/2/20 16:28               0   \n",
       "\n",
       "    retweet_count                                               text  \\\n",
       "5               1  Niranjan Navaratnarajah MBA, Cargo Industry Di...   \n",
       "7             218  Due to the unprecedented and global increase i...   \n",
       "8               3  #Webcast replay now available: Learn how to pr...   \n",
       "9               1  How will the #coronavirus impact #business and...   \n",
       "14              1  A wrap up of @RSAConference #2020: from #Coron...   \n",
       "\n",
       "                                      truncated_tweet  retweet  \n",
       "5   RT @SurecomMedia09: Niranjan Navaratnarajah MB...  retweet  \n",
       "7   RT @CiscoCollab: Due to the unprecedented and ...  retweet  \n",
       "8   RT @MarshGlobal: #Webcast replay now available...  retweet  \n",
       "9   RT @GuyCarpenter: How will the #coronavirus im...  retweet  \n",
       "14  RT @InformationAge: A wrap up of @RSAConferenc...  retweet  "
      ]
     },
     "execution_count": 119,
     "metadata": {},
     "output_type": "execute_result"
    }
   ],
   "source": [
    "# subset retweets\n",
    "rt_df=df[df.retweet==\"retweet\"]\n",
    "rt_df.head()\n"
   ]
  },
  {
   "cell_type": "code",
   "execution_count": 151,
   "metadata": {},
   "outputs": [
    {
     "data": {
      "text/html": [
       "<div>\n",
       "<style scoped>\n",
       "    .dataframe tbody tr th:only-of-type {\n",
       "        vertical-align: middle;\n",
       "    }\n",
       "\n",
       "    .dataframe tbody tr th {\n",
       "        vertical-align: top;\n",
       "    }\n",
       "\n",
       "    .dataframe thead th {\n",
       "        text-align: right;\n",
       "    }\n",
       "</style>\n",
       "<table border=\"1\" class=\"dataframe\">\n",
       "  <thead>\n",
       "    <tr style=\"text-align: right;\">\n",
       "      <th></th>\n",
       "      <th>tweet_id</th>\n",
       "      <th>user_id</th>\n",
       "      <th>screen_name</th>\n",
       "      <th>created_at</th>\n",
       "      <th>favorite_count</th>\n",
       "      <th>retweet_count</th>\n",
       "      <th>text</th>\n",
       "      <th>truncated_tweet</th>\n",
       "      <th>retweet</th>\n",
       "      <th>retweeted</th>\n",
       "    </tr>\n",
       "  </thead>\n",
       "  <tbody>\n",
       "    <tr>\n",
       "      <th>5</th>\n",
       "      <td>1.230000e+18</td>\n",
       "      <td>48402711</td>\n",
       "      <td>unisyscorp</td>\n",
       "      <td>3/2/20 11:31</td>\n",
       "      <td>0</td>\n",
       "      <td>1</td>\n",
       "      <td>Niranjan Navaratnarajah MBA, Cargo Industry Di...</td>\n",
       "      <td>RT @SurecomMedia09: Niranjan Navaratnarajah MB...</td>\n",
       "      <td>retweet</td>\n",
       "      <td>surecommedia09</td>\n",
       "    </tr>\n",
       "    <tr>\n",
       "      <th>7</th>\n",
       "      <td>1.230000e+18</td>\n",
       "      <td>15749983</td>\n",
       "      <td>Cisco</td>\n",
       "      <td>3/2/20 14:15</td>\n",
       "      <td>0</td>\n",
       "      <td>218</td>\n",
       "      <td>Due to the unprecedented and global increase i...</td>\n",
       "      <td>RT @CiscoCollab: Due to the unprecedented and ...</td>\n",
       "      <td>retweet</td>\n",
       "      <td>ciscocollab</td>\n",
       "    </tr>\n",
       "    <tr>\n",
       "      <th>8</th>\n",
       "      <td>1.230000e+18</td>\n",
       "      <td>2904112697</td>\n",
       "      <td>MMC_Global</td>\n",
       "      <td>3/2/20 14:29</td>\n",
       "      <td>0</td>\n",
       "      <td>3</td>\n",
       "      <td>#Webcast replay now available: Learn how to pr...</td>\n",
       "      <td>RT @MarshGlobal: #Webcast replay now available...</td>\n",
       "      <td>retweet</td>\n",
       "      <td>marshglobal</td>\n",
       "    </tr>\n",
       "    <tr>\n",
       "      <th>9</th>\n",
       "      <td>1.230000e+18</td>\n",
       "      <td>2904112697</td>\n",
       "      <td>MMC_Global</td>\n",
       "      <td>3/2/20 14:30</td>\n",
       "      <td>0</td>\n",
       "      <td>1</td>\n",
       "      <td>How will the #coronavirus impact #business and...</td>\n",
       "      <td>RT @GuyCarpenter: How will the #coronavirus im...</td>\n",
       "      <td>retweet</td>\n",
       "      <td>guycarpenter</td>\n",
       "    </tr>\n",
       "    <tr>\n",
       "      <th>14</th>\n",
       "      <td>1.230000e+18</td>\n",
       "      <td>48402711</td>\n",
       "      <td>unisyscorp</td>\n",
       "      <td>3/2/20 16:28</td>\n",
       "      <td>0</td>\n",
       "      <td>1</td>\n",
       "      <td>A wrap up of @RSAConference #2020: from #Coron...</td>\n",
       "      <td>RT @InformationAge: A wrap up of @RSAConferenc...</td>\n",
       "      <td>retweet</td>\n",
       "      <td>informationage</td>\n",
       "    </tr>\n",
       "  </tbody>\n",
       "</table>\n",
       "</div>"
      ],
      "text/plain": [
       "        tweet_id     user_id screen_name    created_at  favorite_count  \\\n",
       "5   1.230000e+18    48402711  unisyscorp  3/2/20 11:31               0   \n",
       "7   1.230000e+18    15749983       Cisco  3/2/20 14:15               0   \n",
       "8   1.230000e+18  2904112697  MMC_Global  3/2/20 14:29               0   \n",
       "9   1.230000e+18  2904112697  MMC_Global  3/2/20 14:30               0   \n",
       "14  1.230000e+18    48402711  unisyscorp  3/2/20 16:28               0   \n",
       "\n",
       "    retweet_count                                               text  \\\n",
       "5               1  Niranjan Navaratnarajah MBA, Cargo Industry Di...   \n",
       "7             218  Due to the unprecedented and global increase i...   \n",
       "8               3  #Webcast replay now available: Learn how to pr...   \n",
       "9               1  How will the #coronavirus impact #business and...   \n",
       "14              1  A wrap up of @RSAConference #2020: from #Coron...   \n",
       "\n",
       "                                      truncated_tweet  retweet       retweeted  \n",
       "5   RT @SurecomMedia09: Niranjan Navaratnarajah MB...  retweet  surecommedia09  \n",
       "7   RT @CiscoCollab: Due to the unprecedented and ...  retweet     ciscocollab  \n",
       "8   RT @MarshGlobal: #Webcast replay now available...  retweet     marshglobal  \n",
       "9   RT @GuyCarpenter: How will the #coronavirus im...  retweet    guycarpenter  \n",
       "14  RT @InformationAge: A wrap up of @RSAConferenc...  retweet  informationage  "
      ]
     },
     "execution_count": 151,
     "metadata": {},
     "output_type": "execute_result"
    }
   ],
   "source": [
    "# extract retweeted accounts \n",
    "twitter_username_re = re.compile(r'RT @([A-Za-z0-9_]+)')\n",
    "# search in truncated text\n",
    "# you can also retrieve the retweeted accounts directly from API\n",
    "retweeted=[re.findall(twitter_username_re,x)[0].lower() for x in rt_df.truncated_tweet]\n",
    "rt_df=rt_df.copy()\n",
    "rt_df[\"retweeted\"]=retweeted\n",
    "rt_df.head()"
   ]
  },
  {
   "cell_type": "code",
   "execution_count": 152,
   "metadata": {},
   "outputs": [
    {
     "data": {
      "text/html": [
       "<div>\n",
       "<style scoped>\n",
       "    .dataframe tbody tr th:only-of-type {\n",
       "        vertical-align: middle;\n",
       "    }\n",
       "\n",
       "    .dataframe tbody tr th {\n",
       "        vertical-align: top;\n",
       "    }\n",
       "\n",
       "    .dataframe thead th {\n",
       "        text-align: right;\n",
       "    }\n",
       "</style>\n",
       "<table border=\"1\" class=\"dataframe\">\n",
       "  <thead>\n",
       "    <tr style=\"text-align: right;\">\n",
       "      <th></th>\n",
       "      <th>state</th>\n",
       "      <th>screen_name</th>\n",
       "      <th>type</th>\n",
       "    </tr>\n",
       "  </thead>\n",
       "  <tbody>\n",
       "    <tr>\n",
       "      <th>0</th>\n",
       "      <td>AR</td>\n",
       "      <td>clintonfdn</td>\n",
       "      <td>ngo</td>\n",
       "    </tr>\n",
       "    <tr>\n",
       "      <th>1</th>\n",
       "      <td>AZ</td>\n",
       "      <td>stmarysfoodbank</td>\n",
       "      <td>ngo</td>\n",
       "    </tr>\n",
       "    <tr>\n",
       "      <th>2</th>\n",
       "      <td>AZ</td>\n",
       "      <td>magellanhealth</td>\n",
       "      <td>business</td>\n",
       "    </tr>\n",
       "    <tr>\n",
       "      <th>3</th>\n",
       "      <td>CA</td>\n",
       "      <td>atvi_ab</td>\n",
       "      <td>business</td>\n",
       "    </tr>\n",
       "    <tr>\n",
       "      <th>4</th>\n",
       "      <td>CA</td>\n",
       "      <td>vmcfoundation</td>\n",
       "      <td>ngo</td>\n",
       "    </tr>\n",
       "  </tbody>\n",
       "</table>\n",
       "</div>"
      ],
      "text/plain": [
       "  state      screen_name      type\n",
       "0    AR       clintonfdn       ngo\n",
       "1    AZ  stmarysfoodbank       ngo\n",
       "2    AZ   magellanhealth  business\n",
       "3    CA          atvi_ab  business\n",
       "4    CA    vmcfoundation       ngo"
      ]
     },
     "execution_count": 152,
     "metadata": {},
     "output_type": "execute_result"
    }
   ],
   "source": [
    "# read in covariates info, which will be the sample of organizations that we focus on.\n",
    "# this file is about types of organizations\n",
    "# large NGOs, government organizations\n",
    "cov=pd.read_csv('covariates.csv',encoding= 'unicode_escape')\n",
    "cov.head()"
   ]
  },
  {
   "cell_type": "code",
   "execution_count": 154,
   "metadata": {},
   "outputs": [
    {
     "data": {
      "text/plain": [
       "98"
      ]
     },
     "execution_count": 154,
     "metadata": {},
     "output_type": "execute_result"
    },
    {
     "data": {
      "text/html": [
       "<div>\n",
       "<style scoped>\n",
       "    .dataframe tbody tr th:only-of-type {\n",
       "        vertical-align: middle;\n",
       "    }\n",
       "\n",
       "    .dataframe tbody tr th {\n",
       "        vertical-align: top;\n",
       "    }\n",
       "\n",
       "    .dataframe thead th {\n",
       "        text-align: right;\n",
       "    }\n",
       "</style>\n",
       "<table border=\"1\" class=\"dataframe\">\n",
       "  <thead>\n",
       "    <tr style=\"text-align: right;\">\n",
       "      <th></th>\n",
       "      <th>screen_name</th>\n",
       "      <th>retweeted</th>\n",
       "    </tr>\n",
       "  </thead>\n",
       "  <tbody>\n",
       "    <tr>\n",
       "      <th>42</th>\n",
       "      <td>molinahealth</td>\n",
       "      <td>wadepthealth</td>\n",
       "    </tr>\n",
       "    <tr>\n",
       "      <th>427</th>\n",
       "      <td>dte_energy</td>\n",
       "      <td>energy</td>\n",
       "    </tr>\n",
       "    <tr>\n",
       "      <th>449</th>\n",
       "      <td>dte_energy</td>\n",
       "      <td>epa</td>\n",
       "    </tr>\n",
       "    <tr>\n",
       "      <th>458</th>\n",
       "      <td>unitedhealthgrp</td>\n",
       "      <td>cdcgov</td>\n",
       "    </tr>\n",
       "    <tr>\n",
       "      <th>559</th>\n",
       "      <td>zionsbank</td>\n",
       "      <td>sbagov</td>\n",
       "    </tr>\n",
       "    <tr>\n",
       "      <th>...</th>\n",
       "      <td>...</td>\n",
       "      <td>...</td>\n",
       "    </tr>\n",
       "    <tr>\n",
       "      <th>5380</th>\n",
       "      <td>ugi_utilities</td>\n",
       "      <td>pahealthdept</td>\n",
       "    </tr>\n",
       "    <tr>\n",
       "      <th>5381</th>\n",
       "      <td>ugi_utilities</td>\n",
       "      <td>pahealthdept</td>\n",
       "    </tr>\n",
       "    <tr>\n",
       "      <th>5455</th>\n",
       "      <td>kelloggcompany</td>\n",
       "      <td>feedingamerica</td>\n",
       "    </tr>\n",
       "    <tr>\n",
       "      <th>5493</th>\n",
       "      <td>microsoft</td>\n",
       "      <td>cdcfound</td>\n",
       "    </tr>\n",
       "    <tr>\n",
       "      <th>5673</th>\n",
       "      <td>bmsnews</td>\n",
       "      <td>who</td>\n",
       "    </tr>\n",
       "  </tbody>\n",
       "</table>\n",
       "<p>98 rows × 2 columns</p>\n",
       "</div>"
      ],
      "text/plain": [
       "          screen_name       retweeted\n",
       "42       molinahealth    wadepthealth\n",
       "427        dte_energy          energy\n",
       "449        dte_energy             epa\n",
       "458   unitedhealthgrp          cdcgov\n",
       "559         zionsbank          sbagov\n",
       "...               ...             ...\n",
       "5380    ugi_utilities    pahealthdept\n",
       "5381    ugi_utilities    pahealthdept\n",
       "5455   kelloggcompany  feedingamerica\n",
       "5493        microsoft        cdcfound\n",
       "5673          bmsnews             who\n",
       "\n",
       "[98 rows x 2 columns]"
      ]
     },
     "execution_count": 154,
     "metadata": {},
     "output_type": "execute_result"
    }
   ],
   "source": [
    "# we filter retweeted accounts and find those we focus on\n",
    "# then we will get an edgelist of companies \n",
    "# if you want to see everyone those companies retweeted, then you need to code those accounts.\n",
    "\n",
    "rt_el=rt_df[rt_df.retweeted.isin(cov.screen_name)] \n",
    "rt_el=rt_el.iloc[:,[2,9]]\n",
    "rt_el.screen_name=[x.lower() for x in rt_el.screen_name]\n",
    "len(rt_el)\n",
    "rt_el"
   ]
  },
  {
   "cell_type": "code",
   "execution_count": 155,
   "metadata": {},
   "outputs": [],
   "source": [
    "# Let's build a network!\n",
    "\n",
    "# Create empty DIRECTED graph\n",
    "G = nx.DiGraph()\n",
    "\n",
    "# Add edges \n",
    "G.add_edges_from(rt_el.to_numpy().tolist())\n"
   ]
  },
  {
   "cell_type": "code",
   "execution_count": 158,
   "metadata": {},
   "outputs": [
    {
     "data": {
      "text/plain": [
       "<Figure size 1200x1000 with 0 Axes>"
      ]
     },
     "execution_count": 158,
     "metadata": {},
     "output_type": "execute_result"
    },
    {
     "data": {
      "text/plain": [
       "Text(0.5, 1.0, 'The retweet network of Fortune companies')"
      ]
     },
     "execution_count": 158,
     "metadata": {},
     "output_type": "execute_result"
    },
    {
     "data": {
      "text/plain": [
       "(-0.898775493916383,\n",
       " 1.1804266306436382,\n",
       " -0.8577917278645707,\n",
       " 1.0067648367954682)"
      ]
     },
     "execution_count": 158,
     "metadata": {},
     "output_type": "execute_result"
    },
    {
     "data": {
      "image/png": "[encoded data removed]",
      "text/plain": [
       "<Figure size 1200x1000 with 1 Axes>"
      ]
     },
     "metadata": {},
     "output_type": "display_data"
    }
   ],
   "source": [
    "# Take a look\n",
    "figure(figsize=(12, 10), dpi=100)\n",
    "\n",
    "# node size proportional to degree\n",
    "node_size= [x * 8000 for x in nx.degree_centrality(G).values()]\n",
    "\n",
    "# choose a layout function\n",
    "pos=nx.kamada_kawai_layout(G)\n",
    "\n",
    "\n",
    "# edge color\n",
    "edge_color=\"grey\"\n",
    "\n",
    "# make arrows more obvious\n",
    "arrowsize=20\n",
    "\n",
    "# make a list of colors to differentiate different types of orgs\n",
    "color=[cov.loc[cov.screen_name==i, \"type\"].iloc[0] for i in G.nodes]\n",
    "replacements = {\n",
    "    \"business\": \"blue\",\n",
    "    \"ngo\": \"green\",\n",
    "    \"gov\": \"pink\",\n",
    "}\n",
    "node_color = [replacements.get(x, x) for x in color]\n",
    "\n",
    "\n",
    "nx.drawing.nx_pylab.draw_networkx(G,node_size=node_size, \n",
    "                                  pos=pos,\n",
    "                                  node_color=node_color,\n",
    "                                  arrowsize=arrowsize,\n",
    "                                  edge_color=edge_color,\n",
    "                                  with_labels=True,\n",
    "                                  font_size=10)\n",
    "plt.title('The retweet network of Fortune companies')\n",
    "plt.axis(\"off\") \n",
    "plt.show()\n",
    "\n",
    "# what interpretations can you draw from the graph?"
   ]
  },
  {
   "cell_type": "code",
   "execution_count": 125,
   "metadata": {},
   "outputs": [
    {
     "data": {
      "text/plain": [
       "{'dte_energy': 0.1098901098901099,\n",
       " 'molinahealth': 0.02197802197802198,\n",
       " 'ugi_utilities': 0.02197802197802198,\n",
       " 'nortonlifelock': 0.02197802197802198,\n",
       " 'aepnews': 0.02197802197802198,\n",
       " 'boise_cascade': 0.02197802197802198,\n",
       " 'bmsnews': 0.02197802197802198,\n",
       " 'unitedhealthgrp': 0.01098901098901099,\n",
       " 'zionsbank': 0.01098901098901099,\n",
       " 'amgen': 0.01098901098901099,\n",
       " 'wellsfargo': 0.01098901098901099,\n",
       " 'aetna': 0.01098901098901099,\n",
       " 'xyleminc': 0.01098901098901099,\n",
       " 'cerner': 0.01098901098901099,\n",
       " 'regeneron': 0.01098901098901099,\n",
       " 'hcahealthcare': 0.01098901098901099,\n",
       " 'presidio': 0.01098901098901099,\n",
       " 'moodysinvsvc': 0.01098901098901099,\n",
       " 'square': 0.01098901098901099,\n",
       " 'cigna': 0.01098901098901099,\n",
       " 'collinsaero': 0.01098901098901099,\n",
       " 'utc': 0.01098901098901099,\n",
       " 'questdx': 0.01098901098901099,\n",
       " 'unisyscorp': 0.01098901098901099,\n",
       " 'warnermedia': 0.01098901098901099,\n",
       " 'dukeenergy': 0.01098901098901099,\n",
       " 'devonenergy': 0.01098901098901099,\n",
       " 'generalelectric': 0.01098901098901099,\n",
       " 'spiritaero': 0.01098901098901099,\n",
       " 'proctergamble': 0.01098901098901099,\n",
       " 'msc_industrial': 0.01098901098901099,\n",
       " 'psegnews': 0.01098901098901099,\n",
       " '3m': 0.01098901098901099,\n",
       " 'mmc_global': 0.01098901098901099,\n",
       " 'medmutual': 0.01098901098901099,\n",
       " 'spglobal': 0.01098901098901099,\n",
       " 'dxctechnology': 0.01098901098901099,\n",
       " 'netapp': 0.01098901098901099,\n",
       " 'unumnews': 0.01098901098901099,\n",
       " 'brownforman': 0.01098901098901099,\n",
       " 'ogande': 0.01098901098901099,\n",
       " 'antheminc': 0.01098901098901099,\n",
       " 'zoetis': 0.01098901098901099,\n",
       " 'labcorp': 0.01098901098901099,\n",
       " 'bankofamerica': 0.01098901098901099,\n",
       " 'hormelfoods': 0.01098901098901099,\n",
       " 'ibm': 0.01098901098901099,\n",
       " 'cisco': 0.01098901098901099,\n",
       " 'honeywell': 0.01098901098901099,\n",
       " 'kelloggcompany': 0.01098901098901099,\n",
       " 'microsoft': 0.01098901098901099,\n",
       " 'wadepthealth': 0.0,\n",
       " 'energy': 0.0,\n",
       " 'epa': 0.0,\n",
       " 'cdcgov': 0.0,\n",
       " 'sbagov': 0.0,\n",
       " 'cdcfound': 0.0,\n",
       " 'michiganhhs': 0.0,\n",
       " 'cvshealth': 0.0,\n",
       " 'govwhitmer': 0.0,\n",
       " 'americares': 0.0,\n",
       " 'pahealthdept': 0.0,\n",
       " 'who': 0.0,\n",
       " 'ftc': 0.0,\n",
       " 'gartner_inc': 0.0,\n",
       " 'redcross': 0.0,\n",
       " 'staysafeonline': 0.0,\n",
       " 'uwco': 0.0,\n",
       " 'usarmy': 0.0,\n",
       " 'unitedwaysem': 0.0,\n",
       " 'massgovernor': 0.0,\n",
       " 'sesamestreet': 0.0,\n",
       " 'idahofoodbank': 0.0,\n",
       " 'hhsgov': 0.0,\n",
       " 'rfbo': 0.0,\n",
       " 'ford': 0.0,\n",
       " 'boeing': 0.0,\n",
       " 'unitedwaygc': 0.0,\n",
       " 'govmurphy': 0.0,\n",
       " 'unicefusa': 0.0,\n",
       " 'servicenow': 0.0,\n",
       " 'commshelterbd': 0.0,\n",
       " 'govandybeshear': 0.0,\n",
       " 'healthyoklahoma': 0.0,\n",
       " 'intel': 0.0,\n",
       " 'us_fda': 0.0,\n",
       " 'magellanhealth': 0.0,\n",
       " 'convoyofhope': 0.0,\n",
       " 'clintonfdn': 0.0,\n",
       " 'glblctzn': 0.0,\n",
       " 'whitehouse': 0.0,\n",
       " 'feedingamerica': 0.0}"
      ]
     },
     "execution_count": 125,
     "metadata": {},
     "output_type": "execute_result"
    }
   ],
   "source": [
    "# Which companies sent more ties?\n",
    "x=nx.out_degree_centrality(G)\n",
    "{k: v for k, v in sorted(x.items(), key=lambda item: item[1],reverse=True)}"
   ]
  },
  {
   "cell_type": "code",
   "execution_count": 159,
   "metadata": {},
   "outputs": [
    {
     "data": {
      "text/plain": [
       "{'cdcgov': 0.07692307692307693,\n",
       " 'redcross': 0.04395604395604396,\n",
       " 'sbagov': 0.02197802197802198,\n",
       " 'cdcfound': 0.02197802197802198,\n",
       " 'who': 0.02197802197802198,\n",
       " 'ftc': 0.02197802197802198,\n",
       " 'gartner_inc': 0.02197802197802198,\n",
       " 'hhsgov': 0.02197802197802198,\n",
       " 'ford': 0.02197802197802198,\n",
       " 'govmurphy': 0.02197802197802198,\n",
       " 'wadepthealth': 0.01098901098901099,\n",
       " 'energy': 0.01098901098901099,\n",
       " 'epa': 0.01098901098901099,\n",
       " 'michiganhhs': 0.01098901098901099,\n",
       " 'cvshealth': 0.01098901098901099,\n",
       " 'govwhitmer': 0.01098901098901099,\n",
       " 'americares': 0.01098901098901099,\n",
       " 'pahealthdept': 0.01098901098901099,\n",
       " 'cerner': 0.01098901098901099,\n",
       " 'moodysinvsvc': 0.01098901098901099,\n",
       " 'staysafeonline': 0.01098901098901099,\n",
       " 'uwco': 0.01098901098901099,\n",
       " 'collinsaero': 0.01098901098901099,\n",
       " 'utc': 0.01098901098901099,\n",
       " 'usarmy': 0.01098901098901099,\n",
       " 'unitedwaysem': 0.01098901098901099,\n",
       " 'massgovernor': 0.01098901098901099,\n",
       " 'sesamestreet': 0.01098901098901099,\n",
       " 'idahofoodbank': 0.01098901098901099,\n",
       " 'rfbo': 0.01098901098901099,\n",
       " 'boeing': 0.01098901098901099,\n",
       " 'unitedwaygc': 0.01098901098901099,\n",
       " 'mmc_global': 0.01098901098901099,\n",
       " 'unicefusa': 0.01098901098901099,\n",
       " 'servicenow': 0.01098901098901099,\n",
       " 'commshelterbd': 0.01098901098901099,\n",
       " 'netapp': 0.01098901098901099,\n",
       " 'unumnews': 0.01098901098901099,\n",
       " 'govandybeshear': 0.01098901098901099,\n",
       " 'healthyoklahoma': 0.01098901098901099,\n",
       " 'intel': 0.01098901098901099,\n",
       " 'us_fda': 0.01098901098901099,\n",
       " 'labcorp': 0.01098901098901099,\n",
       " 'magellanhealth': 0.01098901098901099,\n",
       " 'convoyofhope': 0.01098901098901099,\n",
       " 'clintonfdn': 0.01098901098901099,\n",
       " 'glblctzn': 0.01098901098901099,\n",
       " 'whitehouse': 0.01098901098901099,\n",
       " 'feedingamerica': 0.01098901098901099,\n",
       " 'molinahealth': 0.0,\n",
       " 'dte_energy': 0.0,\n",
       " 'unitedhealthgrp': 0.0,\n",
       " 'zionsbank': 0.0,\n",
       " 'amgen': 0.0,\n",
       " 'wellsfargo': 0.0,\n",
       " 'aetna': 0.0,\n",
       " 'xyleminc': 0.0,\n",
       " 'ugi_utilities': 0.0,\n",
       " 'regeneron': 0.0,\n",
       " 'hcahealthcare': 0.0,\n",
       " 'presidio': 0.0,\n",
       " 'square': 0.0,\n",
       " 'nortonlifelock': 0.0,\n",
       " 'cigna': 0.0,\n",
       " 'aepnews': 0.0,\n",
       " 'questdx': 0.0,\n",
       " 'unisyscorp': 0.0,\n",
       " 'warnermedia': 0.0,\n",
       " 'dukeenergy': 0.0,\n",
       " 'boise_cascade': 0.0,\n",
       " 'devonenergy': 0.0,\n",
       " 'generalelectric': 0.0,\n",
       " 'spiritaero': 0.0,\n",
       " 'proctergamble': 0.0,\n",
       " 'msc_industrial': 0.0,\n",
       " 'psegnews': 0.0,\n",
       " 'bmsnews': 0.0,\n",
       " '3m': 0.0,\n",
       " 'medmutual': 0.0,\n",
       " 'spglobal': 0.0,\n",
       " 'dxctechnology': 0.0,\n",
       " 'brownforman': 0.0,\n",
       " 'ogande': 0.0,\n",
       " 'antheminc': 0.0,\n",
       " 'zoetis': 0.0,\n",
       " 'bankofamerica': 0.0,\n",
       " 'hormelfoods': 0.0,\n",
       " 'ibm': 0.0,\n",
       " 'cisco': 0.0,\n",
       " 'honeywell': 0.0,\n",
       " 'kelloggcompany': 0.0,\n",
       " 'microsoft': 0.0}"
      ]
     },
     "execution_count": 159,
     "metadata": {},
     "output_type": "execute_result"
    }
   ],
   "source": [
    "# Which organizations have the largest indegree centrality?\n",
    "x=nx.in_degree_centrality(G)\n",
    "{k: v for k, v in sorted(x.items(), key=lambda item: item[1],reverse=True)}"
   ]
  },
  {
   "cell_type": "code",
   "execution_count": 160,
   "metadata": {},
   "outputs": [
    {
     "data": {
      "text/html": [
       "<div>\n",
       "<style scoped>\n",
       "    .dataframe tbody tr th:only-of-type {\n",
       "        vertical-align: middle;\n",
       "    }\n",
       "\n",
       "    .dataframe tbody tr th {\n",
       "        vertical-align: top;\n",
       "    }\n",
       "\n",
       "    .dataframe thead th {\n",
       "        text-align: right;\n",
       "    }\n",
       "</style>\n",
       "<table border=\"1\" class=\"dataframe\">\n",
       "  <thead>\n",
       "    <tr style=\"text-align: right;\">\n",
       "      <th></th>\n",
       "      <th>screen_name</th>\n",
       "      <th>indegree</th>\n",
       "      <th>state</th>\n",
       "      <th>type</th>\n",
       "    </tr>\n",
       "  </thead>\n",
       "  <tbody>\n",
       "    <tr>\n",
       "      <th>0</th>\n",
       "      <td>molinahealth</td>\n",
       "      <td>0.000000</td>\n",
       "      <td>CA</td>\n",
       "      <td>business</td>\n",
       "    </tr>\n",
       "    <tr>\n",
       "      <th>1</th>\n",
       "      <td>wadepthealth</td>\n",
       "      <td>0.010989</td>\n",
       "      <td>WA</td>\n",
       "      <td>gov</td>\n",
       "    </tr>\n",
       "    <tr>\n",
       "      <th>2</th>\n",
       "      <td>dte_energy</td>\n",
       "      <td>0.000000</td>\n",
       "      <td>MI</td>\n",
       "      <td>business</td>\n",
       "    </tr>\n",
       "    <tr>\n",
       "      <th>3</th>\n",
       "      <td>energy</td>\n",
       "      <td>0.010989</td>\n",
       "      <td>national</td>\n",
       "      <td>gov</td>\n",
       "    </tr>\n",
       "    <tr>\n",
       "      <th>4</th>\n",
       "      <td>epa</td>\n",
       "      <td>0.010989</td>\n",
       "      <td>national</td>\n",
       "      <td>gov</td>\n",
       "    </tr>\n",
       "  </tbody>\n",
       "</table>\n",
       "</div>"
      ],
      "text/plain": [
       "    screen_name  indegree     state      type\n",
       "0  molinahealth  0.000000        CA  business\n",
       "1  wadepthealth  0.010989        WA       gov\n",
       "2    dte_energy  0.000000        MI  business\n",
       "3        energy  0.010989  national       gov\n",
       "4           epa  0.010989  national       gov"
      ]
     },
     "execution_count": 160,
     "metadata": {},
     "output_type": "execute_result"
    },
    {
     "data": {
      "text/html": [
       "<table class=\"simpletable\">\n",
       "<caption>OLS Regression Results</caption>\n",
       "<tr>\n",
       "  <th>Dep. Variable:</th>        <td>indegree</td>     <th>  R-squared:         </th> <td>   0.471</td>\n",
       "</tr>\n",
       "<tr>\n",
       "  <th>Model:</th>                   <td>OLS</td>       <th>  Adj. R-squared:    </th> <td>   0.210</td>\n",
       "</tr>\n",
       "<tr>\n",
       "  <th>Method:</th>             <td>Least Squares</td>  <th>  F-statistic:       </th> <td>   1.807</td>\n",
       "</tr>\n",
       "<tr>\n",
       "  <th>Date:</th>             <td>Sat, 02 Oct 2021</td> <th>  Prob (F-statistic):</th>  <td>0.0254</td> \n",
       "</tr>\n",
       "<tr>\n",
       "  <th>Time:</th>                 <td>19:00:52</td>     <th>  Log-Likelihood:    </th> <td>  315.41</td>\n",
       "</tr>\n",
       "<tr>\n",
       "  <th>No. Observations:</th>      <td>    92</td>      <th>  AIC:               </th> <td>  -568.8</td>\n",
       "</tr>\n",
       "<tr>\n",
       "  <th>Df Residuals:</th>          <td>    61</td>      <th>  BIC:               </th> <td>  -490.7</td>\n",
       "</tr>\n",
       "<tr>\n",
       "  <th>Df Model:</th>              <td>    30</td>      <th>                     </th>     <td> </td>   \n",
       "</tr>\n",
       "<tr>\n",
       "  <th>Covariance Type:</th>      <td>nonrobust</td>    <th>                     </th>     <td> </td>   \n",
       "</tr>\n",
       "</table>\n",
       "<table class=\"simpletable\">\n",
       "<tr>\n",
       "            <td></td>              <th>coef</th>     <th>std err</th>      <th>t</th>      <th>P>|t|</th>  <th>[0.025</th>    <th>0.975]</th>  \n",
       "</tr>\n",
       "<tr>\n",
       "  <th>Intercept</th>            <td>    0.0035</td> <td>    0.010</td> <td>    0.344</td> <td> 0.732</td> <td>   -0.017</td> <td>    0.024</td>\n",
       "</tr>\n",
       "<tr>\n",
       "  <th>C(type)[T.gov]</th>       <td>    0.0109</td> <td>    0.004</td> <td>    2.522</td> <td> 0.014</td> <td>    0.002</td> <td>    0.019</td>\n",
       "</tr>\n",
       "<tr>\n",
       "  <th>C(type)[T.ngo]</th>       <td>    0.0074</td> <td>    0.004</td> <td>    2.041</td> <td> 0.046</td> <td>    0.000</td> <td>    0.015</td>\n",
       "</tr>\n",
       "<tr>\n",
       "  <th>C(state)[T.AZ]</th>       <td>    0.0074</td> <td>    0.014</td> <td>    0.528</td> <td> 0.600</td> <td>   -0.021</td> <td>    0.036</td>\n",
       "</tr>\n",
       "<tr>\n",
       "  <th>C(state)[T.CA]</th>       <td>    0.0001</td> <td>    0.011</td> <td>    0.011</td> <td> 0.991</td> <td>   -0.021</td> <td>    0.022</td>\n",
       "</tr>\n",
       "<tr>\n",
       "  <th>C(state)[T.CT]</th>       <td>    0.0038</td> <td>    0.011</td> <td>    0.343</td> <td> 0.733</td> <td>   -0.018</td> <td>    0.026</td>\n",
       "</tr>\n",
       "<tr>\n",
       "  <th>C(state)[T.DC]</th>       <td>    0.0165</td> <td>    0.012</td> <td>    1.396</td> <td> 0.168</td> <td>   -0.007</td> <td>    0.040</td>\n",
       "</tr>\n",
       "<tr>\n",
       "  <th>C(state)[T.GA]</th>       <td>    0.0110</td> <td>    0.014</td> <td>    0.806</td> <td> 0.423</td> <td>   -0.016</td> <td>    0.038</td>\n",
       "</tr>\n",
       "<tr>\n",
       "  <th>C(state)[T.IA]</th>       <td>    0.0074</td> <td>    0.014</td> <td>    0.528</td> <td> 0.600</td> <td>   -0.021</td> <td>    0.036</td>\n",
       "</tr>\n",
       "<tr>\n",
       "  <th>C(state)[T.ID]</th>       <td>   -0.0018</td> <td>    0.012</td> <td>   -0.148</td> <td> 0.883</td> <td>   -0.026</td> <td>    0.022</td>\n",
       "</tr>\n",
       "<tr>\n",
       "  <th>C(state)[T.IL]</th>       <td>    0.0037</td> <td>    0.012</td> <td>    0.312</td> <td> 0.756</td> <td>   -0.020</td> <td>    0.028</td>\n",
       "</tr>\n",
       "<tr>\n",
       "  <th>C(state)[T.IN]</th>       <td>   -0.0035</td> <td>    0.014</td> <td>   -0.251</td> <td> 0.803</td> <td>   -0.032</td> <td>    0.025</td>\n",
       "</tr>\n",
       "<tr>\n",
       "  <th>C(state)[T.KS]</th>       <td>   -0.0035</td> <td>    0.014</td> <td>   -0.251</td> <td> 0.803</td> <td>   -0.032</td> <td>    0.025</td>\n",
       "</tr>\n",
       "<tr>\n",
       "  <th>C(state)[T.KY]</th>       <td>   -0.0035</td> <td>    0.012</td> <td>   -0.279</td> <td> 0.781</td> <td>   -0.028</td> <td>    0.021</td>\n",
       "</tr>\n",
       "<tr>\n",
       "  <th>C(state)[T.MA]</th>       <td>   -0.0035</td> <td>    0.012</td> <td>   -0.279</td> <td> 0.781</td> <td>   -0.028</td> <td>    0.021</td>\n",
       "</tr>\n",
       "<tr>\n",
       "  <th>C(state)[T.MI]</th>       <td>    0.0008</td> <td>    0.011</td> <td>    0.069</td> <td> 0.945</td> <td>   -0.021</td> <td>    0.023</td>\n",
       "</tr>\n",
       "<tr>\n",
       "  <th>C(state)[T.MN]</th>       <td>   -0.0035</td> <td>    0.012</td> <td>   -0.302</td> <td> 0.763</td> <td>   -0.027</td> <td>    0.020</td>\n",
       "</tr>\n",
       "<tr>\n",
       "  <th>C(state)[T.MO]</th>       <td>    0.0037</td> <td>    0.012</td> <td>    0.312</td> <td> 0.756</td> <td>   -0.020</td> <td>    0.028</td>\n",
       "</tr>\n",
       "<tr>\n",
       "  <th>C(state)[T.NC]</th>       <td>    0.0001</td> <td>    0.012</td> <td>    0.010</td> <td> 0.992</td> <td>   -0.023</td> <td>    0.024</td>\n",
       "</tr>\n",
       "<tr>\n",
       "  <th>C(state)[T.NJ]</th>       <td>   -0.0013</td> <td>    0.011</td> <td>   -0.118</td> <td> 0.906</td> <td>   -0.024</td> <td>    0.021</td>\n",
       "</tr>\n",
       "<tr>\n",
       "  <th>C(state)[T.NY]</th>       <td>   -0.0011</td> <td>    0.010</td> <td>   -0.107</td> <td> 0.915</td> <td>   -0.022</td> <td>    0.020</td>\n",
       "</tr>\n",
       "<tr>\n",
       "  <th>C(state)[T.OH]</th>       <td>   -0.0018</td> <td>    0.011</td> <td>   -0.168</td> <td> 0.867</td> <td>   -0.023</td> <td>    0.019</td>\n",
       "</tr>\n",
       "<tr>\n",
       "  <th>C(state)[T.OK]</th>       <td>   -0.0026</td> <td>    0.011</td> <td>   -0.236</td> <td> 0.814</td> <td>   -0.025</td> <td>    0.020</td>\n",
       "</tr>\n",
       "<tr>\n",
       "  <th>C(state)[T.PA]</th>       <td>   -0.0035</td> <td>    0.012</td> <td>   -0.298</td> <td> 0.767</td> <td>   -0.027</td> <td>    0.020</td>\n",
       "</tr>\n",
       "<tr>\n",
       "  <th>C(state)[T.RI]</th>       <td>    0.0074</td> <td>    0.014</td> <td>    0.528</td> <td> 0.600</td> <td>   -0.021</td> <td>    0.036</td>\n",
       "</tr>\n",
       "<tr>\n",
       "  <th>C(state)[T.TN]</th>       <td>    0.0020</td> <td>    0.012</td> <td>    0.158</td> <td> 0.875</td> <td>   -0.023</td> <td>    0.027</td>\n",
       "</tr>\n",
       "<tr>\n",
       "  <th>C(state)[T.UN]</th>       <td> 4.452e-17</td> <td>    0.014</td> <td> 3.27e-15</td> <td> 1.000</td> <td>   -0.027</td> <td>    0.027</td>\n",
       "</tr>\n",
       "<tr>\n",
       "  <th>C(state)[T.UT]</th>       <td>   -0.0035</td> <td>    0.014</td> <td>   -0.251</td> <td> 0.803</td> <td>   -0.032</td> <td>    0.025</td>\n",
       "</tr>\n",
       "<tr>\n",
       "  <th>C(state)[T.VA]</th>       <td>   -0.0035</td> <td>    0.014</td> <td>   -0.251</td> <td> 0.803</td> <td>   -0.032</td> <td>    0.025</td>\n",
       "</tr>\n",
       "<tr>\n",
       "  <th>C(state)[T.WA]</th>       <td>   -0.0035</td> <td>    0.012</td> <td>   -0.279</td> <td> 0.781</td> <td>   -0.028</td> <td>    0.021</td>\n",
       "</tr>\n",
       "<tr>\n",
       "  <th>C(state)[T.national]</th> <td>    0.0076</td> <td>    0.011</td> <td>    0.661</td> <td> 0.511</td> <td>   -0.015</td> <td>    0.030</td>\n",
       "</tr>\n",
       "</table>\n",
       "<table class=\"simpletable\">\n",
       "<tr>\n",
       "  <th>Omnibus:</th>       <td>110.755</td> <th>  Durbin-Watson:     </th> <td>   1.797</td>\n",
       "</tr>\n",
       "<tr>\n",
       "  <th>Prob(Omnibus):</th> <td> 0.000</td>  <th>  Jarque-Bera (JB):  </th> <td>2479.537</td>\n",
       "</tr>\n",
       "<tr>\n",
       "  <th>Skew:</th>          <td> 3.818</td>  <th>  Prob(JB):          </th> <td>    0.00</td>\n",
       "</tr>\n",
       "<tr>\n",
       "  <th>Kurtosis:</th>      <td>27.260</td>  <th>  Cond. No.          </th> <td>    58.2</td>\n",
       "</tr>\n",
       "</table><br/><br/>Warnings:<br/>[1] Standard Errors assume that the covariance matrix of the errors is correctly specified."
      ],
      "text/plain": [
       "<class 'statsmodels.iolib.summary.Summary'>\n",
       "\"\"\"\n",
       "                            OLS Regression Results                            \n",
       "==============================================================================\n",
       "Dep. Variable:               indegree   R-squared:                       0.471\n",
       "Model:                            OLS   Adj. R-squared:                  0.210\n",
       "Method:                 Least Squares   F-statistic:                     1.807\n",
       "Date:                Sat, 02 Oct 2021   Prob (F-statistic):             0.0254\n",
       "Time:                        19:00:52   Log-Likelihood:                 315.41\n",
       "No. Observations:                  92   AIC:                            -568.8\n",
       "Df Residuals:                      61   BIC:                            -490.7\n",
       "Df Model:                          30                                         \n",
       "Covariance Type:            nonrobust                                         \n",
       "========================================================================================\n",
       "                           coef    std err          t      P>|t|      [0.025      0.975]\n",
       "----------------------------------------------------------------------------------------\n",
       "Intercept                0.0035      0.010      0.344      0.732      -0.017       0.024\n",
       "C(type)[T.gov]           0.0109      0.004      2.522      0.014       0.002       0.019\n",
       "C(type)[T.ngo]           0.0074      0.004      2.041      0.046       0.000       0.015\n",
       "C(state)[T.AZ]           0.0074      0.014      0.528      0.600      -0.021       0.036\n",
       "C(state)[T.CA]           0.0001      0.011      0.011      0.991      -0.021       0.022\n",
       "C(state)[T.CT]           0.0038      0.011      0.343      0.733      -0.018       0.026\n",
       "C(state)[T.DC]           0.0165      0.012      1.396      0.168      -0.007       0.040\n",
       "C(state)[T.GA]           0.0110      0.014      0.806      0.423      -0.016       0.038\n",
       "C(state)[T.IA]           0.0074      0.014      0.528      0.600      -0.021       0.036\n",
       "C(state)[T.ID]          -0.0018      0.012     -0.148      0.883      -0.026       0.022\n",
       "C(state)[T.IL]           0.0037      0.012      0.312      0.756      -0.020       0.028\n",
       "C(state)[T.IN]          -0.0035      0.014     -0.251      0.803      -0.032       0.025\n",
       "C(state)[T.KS]          -0.0035      0.014     -0.251      0.803      -0.032       0.025\n",
       "C(state)[T.KY]          -0.0035      0.012     -0.279      0.781      -0.028       0.021\n",
       "C(state)[T.MA]          -0.0035      0.012     -0.279      0.781      -0.028       0.021\n",
       "C(state)[T.MI]           0.0008      0.011      0.069      0.945      -0.021       0.023\n",
       "C(state)[T.MN]          -0.0035      0.012     -0.302      0.763      -0.027       0.020\n",
       "C(state)[T.MO]           0.0037      0.012      0.312      0.756      -0.020       0.028\n",
       "C(state)[T.NC]           0.0001      0.012      0.010      0.992      -0.023       0.024\n",
       "C(state)[T.NJ]          -0.0013      0.011     -0.118      0.906      -0.024       0.021\n",
       "C(state)[T.NY]          -0.0011      0.010     -0.107      0.915      -0.022       0.020\n",
       "C(state)[T.OH]          -0.0018      0.011     -0.168      0.867      -0.023       0.019\n",
       "C(state)[T.OK]          -0.0026      0.011     -0.236      0.814      -0.025       0.020\n",
       "C(state)[T.PA]          -0.0035      0.012     -0.298      0.767      -0.027       0.020\n",
       "C(state)[T.RI]           0.0074      0.014      0.528      0.600      -0.021       0.036\n",
       "C(state)[T.TN]           0.0020      0.012      0.158      0.875      -0.023       0.027\n",
       "C(state)[T.UN]        4.452e-17      0.014   3.27e-15      1.000      -0.027       0.027\n",
       "C(state)[T.UT]          -0.0035      0.014     -0.251      0.803      -0.032       0.025\n",
       "C(state)[T.VA]          -0.0035      0.014     -0.251      0.803      -0.032       0.025\n",
       "C(state)[T.WA]          -0.0035      0.012     -0.279      0.781      -0.028       0.021\n",
       "C(state)[T.national]     0.0076      0.011      0.661      0.511      -0.015       0.030\n",
       "==============================================================================\n",
       "Omnibus:                      110.755   Durbin-Watson:                   1.797\n",
       "Prob(Omnibus):                  0.000   Jarque-Bera (JB):             2479.537\n",
       "Skew:                           3.818   Prob(JB):                         0.00\n",
       "Kurtosis:                      27.260   Cond. No.                         58.2\n",
       "==============================================================================\n",
       "\n",
       "Warnings:\n",
       "[1] Standard Errors assume that the covariance matrix of the errors is correctly specified.\n",
       "\"\"\""
      ]
     },
     "execution_count": 160,
     "metadata": {},
     "output_type": "execute_result"
    }
   ],
   "source": [
    "# Can you propose any research question?\n",
    "\n",
    "# Eg: Which type of organizations are more likely to be retweeted from business?\n",
    "cent=pd.DataFrame(x.items(),columns=['screen_name', 'indegree']) \n",
    "cent=pd.merge(cent, cov, on='screen_name',how=\"left\")\n",
    "cent.head()\n",
    "\n",
    "# can test with a simple regression\n",
    "import statsmodels.formula.api as smf\n",
    "model = smf.ols(formula = 'indegree ~  C(type)+C(state)', \\\n",
    "                   data = cent).fit();\n",
    "model.summary()\n",
    "\n",
    "# NOTE!!! A more valid way to test if the effects of covariates on receiving and sending ties\n",
    "# Should be Exponential Random Graph Models. "
   ]
  },
  {
   "cell_type": "code",
   "execution_count": 144,
   "metadata": {},
   "outputs": [
    {
     "data": {
      "text/html": [
       "<div>\n",
       "<style scoped>\n",
       "    .dataframe tbody tr th:only-of-type {\n",
       "        vertical-align: middle;\n",
       "    }\n",
       "\n",
       "    .dataframe tbody tr th {\n",
       "        vertical-align: top;\n",
       "    }\n",
       "\n",
       "    .dataframe thead th {\n",
       "        text-align: right;\n",
       "    }\n",
       "</style>\n",
       "<table border=\"1\" class=\"dataframe\">\n",
       "  <thead>\n",
       "    <tr style=\"text-align: right;\">\n",
       "      <th></th>\n",
       "      <th>tweet_id</th>\n",
       "      <th>user_id</th>\n",
       "      <th>screen_name</th>\n",
       "      <th>created_at</th>\n",
       "      <th>favorite_count</th>\n",
       "      <th>retweet_count</th>\n",
       "      <th>text</th>\n",
       "      <th>truncated_tweet</th>\n",
       "      <th>retweet</th>\n",
       "    </tr>\n",
       "  </thead>\n",
       "  <tbody>\n",
       "    <tr>\n",
       "      <th>0</th>\n",
       "      <td>1.230000e+18</td>\n",
       "      <td>2904112697</td>\n",
       "      <td>MMC_Global</td>\n",
       "      <td>3/1/20 20:00</td>\n",
       "      <td>3</td>\n",
       "      <td>1</td>\n",
       "      <td>How will the #coronavirus impact #business and...</td>\n",
       "      <td>How will the #coronavirus impact #business and...</td>\n",
       "      <td>original</td>\n",
       "    </tr>\n",
       "    <tr>\n",
       "      <th>1</th>\n",
       "      <td>1.230000e+18</td>\n",
       "      <td>120578352</td>\n",
       "      <td>CatalentPharma</td>\n",
       "      <td>3/1/20 21:50</td>\n",
       "      <td>1</td>\n",
       "      <td>2</td>\n",
       "      <td>Join us at Gene Therapy for Rare Disorders in ...</td>\n",
       "      <td>Join us at Gene Therapy for Rare Disorders in ...</td>\n",
       "      <td>original</td>\n",
       "    </tr>\n",
       "    <tr>\n",
       "      <th>2</th>\n",
       "      <td>1.230000e+18</td>\n",
       "      <td>151998296</td>\n",
       "      <td>MoodysInvSvc</td>\n",
       "      <td>3/2/20 9:53</td>\n",
       "      <td>1</td>\n",
       "      <td>1</td>\n",
       "      <td>The #coronavirus outbreak will disrupt automot...</td>\n",
       "      <td>The #coronavirus outbreak will disrupt automot...</td>\n",
       "      <td>original</td>\n",
       "    </tr>\n",
       "    <tr>\n",
       "      <th>3</th>\n",
       "      <td>1.230000e+18</td>\n",
       "      <td>337847812</td>\n",
       "      <td>FTI_Global</td>\n",
       "      <td>3/2/20 10:00</td>\n",
       "      <td>1</td>\n",
       "      <td>1</td>\n",
       "      <td>Read why John Beck thinks central banks will ¡...</td>\n",
       "      <td>Read why John Beck thinks central banks will ¡...</td>\n",
       "      <td>original</td>\n",
       "    </tr>\n",
       "    <tr>\n",
       "      <th>4</th>\n",
       "      <td>1.230000e+18</td>\n",
       "      <td>2904112697</td>\n",
       "      <td>MMC_Global</td>\n",
       "      <td>3/2/20 11:00</td>\n",
       "      <td>6</td>\n",
       "      <td>1</td>\n",
       "      <td>To effectively prepare and respond to the thre...</td>\n",
       "      <td>To effectively prepare and respond to the thre...</td>\n",
       "      <td>original</td>\n",
       "    </tr>\n",
       "  </tbody>\n",
       "</table>\n",
       "</div>"
      ],
      "text/plain": [
       "       tweet_id     user_id     screen_name    created_at  favorite_count  \\\n",
       "0  1.230000e+18  2904112697      MMC_Global  3/1/20 20:00               3   \n",
       "1  1.230000e+18   120578352  CatalentPharma  3/1/20 21:50               1   \n",
       "2  1.230000e+18   151998296    MoodysInvSvc   3/2/20 9:53               1   \n",
       "3  1.230000e+18   337847812      FTI_Global  3/2/20 10:00               1   \n",
       "4  1.230000e+18  2904112697      MMC_Global  3/2/20 11:00               6   \n",
       "\n",
       "   retweet_count                                               text  \\\n",
       "0              1  How will the #coronavirus impact #business and...   \n",
       "1              2  Join us at Gene Therapy for Rare Disorders in ...   \n",
       "2              1  The #coronavirus outbreak will disrupt automot...   \n",
       "3              1  Read why John Beck thinks central banks will ¡...   \n",
       "4              1  To effectively prepare and respond to the thre...   \n",
       "\n",
       "                                     truncated_tweet   retweet  \n",
       "0  How will the #coronavirus impact #business and...  original  \n",
       "1  Join us at Gene Therapy for Rare Disorders in ...  original  \n",
       "2  The #coronavirus outbreak will disrupt automot...  original  \n",
       "3  Read why John Beck thinks central banks will ¡...  original  \n",
       "4  To effectively prepare and respond to the thre...  original  "
      ]
     },
     "execution_count": 144,
     "metadata": {},
     "output_type": "execute_result"
    },
    {
     "data": {
      "text/html": [
       "<div>\n",
       "<style scoped>\n",
       "    .dataframe tbody tr th:only-of-type {\n",
       "        vertical-align: middle;\n",
       "    }\n",
       "\n",
       "    .dataframe tbody tr th {\n",
       "        vertical-align: top;\n",
       "    }\n",
       "\n",
       "    .dataframe thead th {\n",
       "        text-align: right;\n",
       "    }\n",
       "</style>\n",
       "<table border=\"1\" class=\"dataframe\">\n",
       "  <thead>\n",
       "    <tr style=\"text-align: right;\">\n",
       "      <th></th>\n",
       "      <th>screen_name</th>\n",
       "      <th>mentioned</th>\n",
       "    </tr>\n",
       "  </thead>\n",
       "  <tbody>\n",
       "    <tr>\n",
       "      <th>0</th>\n",
       "      <td>MMC_Global</td>\n",
       "      <td>[MMC_Global, BRINKNewsNow]</td>\n",
       "    </tr>\n",
       "    <tr>\n",
       "      <th>1</th>\n",
       "      <td>CatalentPharma</td>\n",
       "      <td>[]</td>\n",
       "    </tr>\n",
       "    <tr>\n",
       "      <th>2</th>\n",
       "      <td>MoodysInvSvc</td>\n",
       "      <td>[]</td>\n",
       "    </tr>\n",
       "    <tr>\n",
       "      <th>3</th>\n",
       "      <td>FTI_Global</td>\n",
       "      <td>[]</td>\n",
       "    </tr>\n",
       "    <tr>\n",
       "      <th>4</th>\n",
       "      <td>MMC_Global</td>\n",
       "      <td>[MarshGlobal]</td>\n",
       "    </tr>\n",
       "  </tbody>\n",
       "</table>\n",
       "</div>"
      ],
      "text/plain": [
       "      screen_name                   mentioned\n",
       "0      MMC_Global  [MMC_Global, BRINKNewsNow]\n",
       "1  CatalentPharma                          []\n",
       "2    MoodysInvSvc                          []\n",
       "3      FTI_Global                          []\n",
       "4      MMC_Global               [MarshGlobal]"
      ]
     },
     "execution_count": 144,
     "metadata": {},
     "output_type": "execute_result"
    }
   ],
   "source": [
    "# Now let's turn to mention network\n",
    "# Note: in one tweet, there could be multiple mentioned accounts\n",
    "# How to convert it to an edgelist?\n",
    "\n",
    "men_df=df[df.retweet!=\"retweet\"]\n",
    "men_df.head()\n",
    "\n",
    "# extract mentioned accounts \n",
    "twitter_username_men = re.compile(r'@([A-Za-z0-9_]+)')\n",
    "# search in full text\n",
    "mentioned=[re.findall(twitter_username_men,x) for x in men_df.text]\n",
    "men_df=men_df.copy()\n",
    "men_df['mentioned']=np.array(mentioned,dtype=\"object\")\n",
    "men_df=men_df.iloc[:,[2,9]]\n",
    "men_df.head()"
   ]
  },
  {
   "cell_type": "code",
   "execution_count": 161,
   "metadata": {},
   "outputs": [
    {
     "data": {
      "text/plain": [
       "['mmc_global', 'mmc_global']"
      ]
     },
     "execution_count": 161,
     "metadata": {},
     "output_type": "execute_result"
    },
    {
     "data": {
      "text/plain": [
       "['hwnelectric', 'dhsgov']"
      ]
     },
     "execution_count": 161,
     "metadata": {},
     "output_type": "execute_result"
    },
    {
     "data": {
      "text/plain": [
       "['dte_energy', 'cdcgov']"
      ]
     },
     "execution_count": 161,
     "metadata": {},
     "output_type": "execute_result"
    },
    {
     "data": {
      "text/plain": [
       "['aetna', 'cvshealth']"
      ]
     },
     "execution_count": 161,
     "metadata": {},
     "output_type": "execute_result"
    },
    {
     "data": {
      "text/plain": [
       "['aetna', 'cdcgov']"
      ]
     },
     "execution_count": 161,
     "metadata": {},
     "output_type": "execute_result"
    },
    {
     "data": {
      "text/plain": [
       "['aetna', 'who']"
      ]
     },
     "execution_count": 161,
     "metadata": {},
     "output_type": "execute_result"
    },
    {
     "data": {
      "text/plain": [
       "['nasdaq', 'nasdaq']"
      ]
     },
     "execution_count": 161,
     "metadata": {},
     "output_type": "execute_result"
    },
    {
     "data": {
      "text/plain": [
       "['mmc_global', 'mmc_global']"
      ]
     },
     "execution_count": 161,
     "metadata": {},
     "output_type": "execute_result"
    },
    {
     "data": {
      "text/plain": [
       "['henryschein', 'who']"
      ]
     },
     "execution_count": 161,
     "metadata": {},
     "output_type": "execute_result"
    },
    {
     "data": {
      "text/plain": [
       "['uhs_inc', 'cdcgov']"
      ]
     },
     "execution_count": 161,
     "metadata": {},
     "output_type": "execute_result"
    },
    {
     "data": {
      "text/plain": [
       "['cloroxco', 'cdcgov']"
      ]
     },
     "execution_count": 161,
     "metadata": {},
     "output_type": "execute_result"
    },
    {
     "data": {
      "text/plain": [
       "['cloroxco', 'who']"
      ]
     },
     "execution_count": 161,
     "metadata": {},
     "output_type": "execute_result"
    },
    {
     "data": {
      "text/plain": [
       "['pfizer', 'whitehouse']"
      ]
     },
     "execution_count": 161,
     "metadata": {},
     "output_type": "execute_result"
    },
    {
     "data": {
      "text/plain": [
       "['aetna', 'cvshealth']"
      ]
     },
     "execution_count": 161,
     "metadata": {},
     "output_type": "execute_result"
    },
    {
     "data": {
      "text/plain": [
       "['3m', 'vp']"
      ]
     },
     "execution_count": 161,
     "metadata": {},
     "output_type": "execute_result"
    },
    {
     "data": {
      "text/plain": [
       "['3m', 'govtimwalz']"
      ]
     },
     "execution_count": 161,
     "metadata": {},
     "output_type": "execute_result"
    },
    {
     "data": {
      "text/plain": [
       "['3m', 'us_fda']"
      ]
     },
     "execution_count": 161,
     "metadata": {},
     "output_type": "execute_result"
    },
    {
     "data": {
      "text/plain": [
       "['pfizer', 'cdcgov']"
      ]
     },
     "execution_count": 161,
     "metadata": {},
     "output_type": "execute_result"
    },
    {
     "data": {
      "text/plain": [
       "['digitalrealty', 'who']"
      ]
     },
     "execution_count": 161,
     "metadata": {},
     "output_type": "execute_result"
    },
    {
     "data": {
      "text/plain": [
       "['prologis', 'prologis']"
      ]
     },
     "execution_count": 161,
     "metadata": {},
     "output_type": "execute_result"
    },
    {
     "data": {
      "text/plain": [
       "['hcahealthcare', 'cdcgov']"
      ]
     },
     "execution_count": 161,
     "metadata": {},
     "output_type": "execute_result"
    },
    {
     "data": {
      "text/plain": [
       "['uhs_inc', 'cdcgov']"
      ]
     },
     "execution_count": 161,
     "metadata": {},
     "output_type": "execute_result"
    },
    {
     "data": {
      "text/plain": [
       "['spglobal', 'qualcomm']"
      ]
     },
     "execution_count": 161,
     "metadata": {},
     "output_type": "execute_result"
    },
    {
     "data": {
      "text/plain": [
       "['cummins', 'cummins']"
      ]
     },
     "execution_count": 161,
     "metadata": {},
     "output_type": "execute_result"
    },
    {
     "data": {
      "text/plain": [
       "['mmc_global', 'mmc_global']"
      ]
     },
     "execution_count": 161,
     "metadata": {},
     "output_type": "execute_result"
    },
    {
     "data": {
      "text/plain": [
       "['dte_energy', 'cdcgov']"
      ]
     },
     "execution_count": 161,
     "metadata": {},
     "output_type": "execute_result"
    },
    {
     "data": {
      "text/plain": [
       "['prologis', 'prologis']"
      ]
     },
     "execution_count": 161,
     "metadata": {},
     "output_type": "execute_result"
    },
    {
     "data": {
      "text/plain": [
       "['cigna', 'cdcgov']"
      ]
     },
     "execution_count": 161,
     "metadata": {},
     "output_type": "execute_result"
    },
    {
     "data": {
      "text/plain": [
       "['cigna', 'cdcgov']"
      ]
     },
     "execution_count": 161,
     "metadata": {},
     "output_type": "execute_result"
    },
    {
     "data": {
      "text/plain": [
       "['envisionleads', 'cdcgov']"
      ]
     },
     "execution_count": 161,
     "metadata": {},
     "output_type": "execute_result"
    },
    {
     "data": {
      "text/plain": [
       "['firstrepublic', 'chcfnews']"
      ]
     },
     "execution_count": 161,
     "metadata": {},
     "output_type": "execute_result"
    },
    {
     "data": {
      "text/plain": [
       "['spglobal', 'goldmansachs']"
      ]
     },
     "execution_count": 161,
     "metadata": {},
     "output_type": "execute_result"
    },
    {
     "data": {
      "text/plain": [
       "['spglobal', 'cmegroup']"
      ]
     },
     "execution_count": 161,
     "metadata": {},
     "output_type": "execute_result"
    },
    {
     "data": {
      "text/plain": [
       "['pfizer', 'who']"
      ]
     },
     "execution_count": 161,
     "metadata": {},
     "output_type": "execute_result"
    },
    {
     "data": {
      "text/plain": [
       "['uhs_inc', 'cdcgov']"
      ]
     },
     "execution_count": 161,
     "metadata": {},
     "output_type": "execute_result"
    },
    {
     "data": {
      "text/plain": [
       "['dte_energy', 'cdcgov']"
      ]
     },
     "execution_count": 161,
     "metadata": {},
     "output_type": "execute_result"
    },
    {
     "data": {
      "text/plain": [
       "['mmc_global', 'mmc_global']"
      ]
     },
     "execution_count": 161,
     "metadata": {},
     "output_type": "execute_result"
    },
    {
     "data": {
      "text/plain": [
       "['genworth', 'cdcgov']"
      ]
     },
     "execution_count": 161,
     "metadata": {},
     "output_type": "execute_result"
    },
    {
     "data": {
      "text/plain": [
       "['facebook', 'who']"
      ]
     },
     "execution_count": 161,
     "metadata": {},
     "output_type": "execute_result"
    },
    {
     "data": {
      "text/plain": [
       "['facebook', 'cdcgov']"
      ]
     },
     "execution_count": 161,
     "metadata": {},
     "output_type": "execute_result"
    },
    {
     "data": {
      "text/plain": [
       "['resmed', 'who']"
      ]
     },
     "execution_count": 161,
     "metadata": {},
     "output_type": "execute_result"
    },
    {
     "data": {
      "text/plain": [
       "['sysco', 'who']"
      ]
     },
     "execution_count": 161,
     "metadata": {},
     "output_type": "execute_result"
    },
    {
     "data": {
      "text/plain": [
       "['sysco', 'cdcgov']"
      ]
     },
     "execution_count": 161,
     "metadata": {},
     "output_type": "execute_result"
    },
    {
     "data": {
      "text/plain": [
       "['amfam', 'amfam']"
      ]
     },
     "execution_count": 161,
     "metadata": {},
     "output_type": "execute_result"
    },
    {
     "data": {
      "text/plain": [
       "['thermofisher', 'us_fda']"
      ]
     },
     "execution_count": 161,
     "metadata": {},
     "output_type": "execute_result"
    },
    {
     "data": {
      "text/plain": [
       "['thermofisher', 'us_fda']"
      ]
     },
     "execution_count": 161,
     "metadata": {},
     "output_type": "execute_result"
    },
    {
     "data": {
      "text/plain": [
       "['riteaid', 'cdcgov']"
      ]
     },
     "execution_count": 161,
     "metadata": {},
     "output_type": "execute_result"
    },
    {
     "data": {
      "text/plain": [
       "['bdandco', 'whitehouse']"
      ]
     },
     "execution_count": 161,
     "metadata": {},
     "output_type": "execute_result"
    },
    {
     "data": {
      "text/plain": [
       "['mmc_global', 'mmc_global']"
      ]
     },
     "execution_count": 161,
     "metadata": {},
     "output_type": "execute_result"
    },
    {
     "data": {
      "text/plain": [
       "['nasdaq', 'nasdaq']"
      ]
     },
     "execution_count": 161,
     "metadata": {},
     "output_type": "execute_result"
    },
    {
     "data": {
      "text/plain": [
       "['dte_energy', 'cdcgov']"
      ]
     },
     "execution_count": 161,
     "metadata": {},
     "output_type": "execute_result"
    },
    {
     "data": {
      "text/plain": [
       "['dominionenergy', 'redcross']"
      ]
     },
     "execution_count": 161,
     "metadata": {},
     "output_type": "execute_result"
    },
    {
     "data": {
      "text/plain": [
       "['sysco', 'who']"
      ]
     },
     "execution_count": 161,
     "metadata": {},
     "output_type": "execute_result"
    },
    {
     "data": {
      "text/plain": [
       "['molinahealth', 'cdcgov']"
      ]
     },
     "execution_count": 161,
     "metadata": {},
     "output_type": "execute_result"
    },
    {
     "data": {
      "text/plain": [
       "['hologic', 'us_fda']"
      ]
     },
     "execution_count": 161,
     "metadata": {},
     "output_type": "execute_result"
    },
    {
     "data": {
      "text/plain": [
       "['servicenow', 'wadepthealth']"
      ]
     },
     "execution_count": 161,
     "metadata": {},
     "output_type": "execute_result"
    },
    {
     "data": {
      "text/plain": [
       "['mmc_global', 'who']"
      ]
     },
     "execution_count": 161,
     "metadata": {},
     "output_type": "execute_result"
    },
    {
     "data": {
      "text/plain": [
       "['amwater', 'govholcomb']"
      ]
     },
     "execution_count": 161,
     "metadata": {},
     "output_type": "execute_result"
    },
    {
     "data": {
      "text/plain": [
       "['exxonmobil', 'who']"
      ]
     },
     "execution_count": 161,
     "metadata": {},
     "output_type": "execute_result"
    },
    {
     "data": {
      "text/plain": [
       "['exxonmobil', 'cdcgov']"
      ]
     },
     "execution_count": 161,
     "metadata": {},
     "output_type": "execute_result"
    },
    {
     "data": {
      "text/plain": [
       "['mmc_global', 'mmc_global']"
      ]
     },
     "execution_count": 161,
     "metadata": {},
     "output_type": "execute_result"
    },
    {
     "data": {
      "text/plain": [
       "['fmccorp', 'cdcgov']"
      ]
     },
     "execution_count": 161,
     "metadata": {},
     "output_type": "execute_result"
    },
    {
     "data": {
      "text/plain": [
       "['humana', 'feedingamerica']"
      ]
     },
     "execution_count": 161,
     "metadata": {},
     "output_type": "execute_result"
    },
    {
     "data": {
      "text/plain": [
       "['goodyeartireco', 'acrfoodbank']"
      ]
     },
     "execution_count": 161,
     "metadata": {},
     "output_type": "execute_result"
    },
    {
     "data": {
      "text/plain": [
       "['zionsbank', 'chase']"
      ]
     },
     "execution_count": 161,
     "metadata": {},
     "output_type": "execute_result"
    },
    {
     "data": {
      "text/plain": [
       "['zionsbank', 'bankofamerica']"
      ]
     },
     "execution_count": 161,
     "metadata": {},
     "output_type": "execute_result"
    },
    {
     "data": {
      "text/plain": [
       "['zionsbank', 'wellsfargo']"
      ]
     },
     "execution_count": 161,
     "metadata": {},
     "output_type": "execute_result"
    },
    {
     "data": {
      "text/plain": [
       "['fmccorp', 'cdcgov']"
      ]
     },
     "execution_count": 161,
     "metadata": {},
     "output_type": "execute_result"
    },
    {
     "data": {
      "text/plain": [
       "['edisonintl', 'gavinnewsom']"
      ]
     },
     "execution_count": 161,
     "metadata": {},
     "output_type": "execute_result"
    },
    {
     "data": {
      "text/plain": [
       "['healthcare_abc', 'directrelief']"
      ]
     },
     "execution_count": 161,
     "metadata": {},
     "output_type": "execute_result"
    },
    {
     "data": {
      "text/plain": [
       "['prologis', 'prologis']"
      ]
     },
     "execution_count": 161,
     "metadata": {},
     "output_type": "execute_result"
    },
    {
     "data": {
      "text/plain": [
       "['molinahealth', 'cdcgov']"
      ]
     },
     "execution_count": 161,
     "metadata": {},
     "output_type": "execute_result"
    },
    {
     "data": {
      "text/plain": [
       "['nasdaq', 'nasdaq']"
      ]
     },
     "execution_count": 161,
     "metadata": {},
     "output_type": "execute_result"
    },
    {
     "data": {
      "text/plain": [
       "['dte_energy', 'cdcgov']"
      ]
     },
     "execution_count": 161,
     "metadata": {},
     "output_type": "execute_result"
    },
    {
     "data": {
      "text/plain": [
       "['spglobal', 'energy']"
      ]
     },
     "execution_count": 161,
     "metadata": {},
     "output_type": "execute_result"
    },
    {
     "data": {
      "text/plain": [
       "['digitalrealty', 'nvidia']"
      ]
     },
     "execution_count": 161,
     "metadata": {},
     "output_type": "execute_result"
    },
    {
     "data": {
      "text/plain": [
       "['exelon', 'exelon']"
      ]
     },
     "execution_count": 161,
     "metadata": {},
     "output_type": "execute_result"
    },
    {
     "data": {
      "text/plain": [
       "['exelon', 'exelon']"
      ]
     },
     "execution_count": 161,
     "metadata": {},
     "output_type": "execute_result"
    },
    {
     "data": {
      "text/plain": [
       "['hcahealthcare', 'cdcgov']"
      ]
     },
     "execution_count": 161,
     "metadata": {},
     "output_type": "execute_result"
    },
    {
     "data": {
      "text/plain": [
       "['kbrincorporated', 'cdcgov']"
      ]
     },
     "execution_count": 161,
     "metadata": {},
     "output_type": "execute_result"
    },
    {
     "data": {
      "text/plain": [
       "['kbrincorporated', 'who']"
      ]
     },
     "execution_count": 161,
     "metadata": {},
     "output_type": "execute_result"
    },
    {
     "data": {
      "text/plain": [
       "['lillypad', 'statehealthin']"
      ]
     },
     "execution_count": 161,
     "metadata": {},
     "output_type": "execute_result"
    },
    {
     "data": {
      "text/plain": [
       "['spiritaero', 'spiritaero']"
      ]
     },
     "execution_count": 161,
     "metadata": {},
     "output_type": "execute_result"
    },
    {
     "data": {
      "text/plain": [
       "['exelon', 'redcross']"
      ]
     },
     "execution_count": 161,
     "metadata": {},
     "output_type": "execute_result"
    },
    {
     "data": {
      "text/plain": [
       "['exelon', 'exelon']"
      ]
     },
     "execution_count": 161,
     "metadata": {},
     "output_type": "execute_result"
    },
    {
     "data": {
      "text/plain": [
       "['spglobal', 'ford']"
      ]
     },
     "execution_count": 161,
     "metadata": {},
     "output_type": "execute_result"
    },
    {
     "data": {
      "text/plain": [
       "['spglobal', 'gm']"
      ]
     },
     "execution_count": 161,
     "metadata": {},
     "output_type": "execute_result"
    },
    {
     "data": {
      "text/plain": [
       "['comcast', 'cdcgov']"
      ]
     },
     "execution_count": 161,
     "metadata": {},
     "output_type": "execute_result"
    },
    {
     "data": {
      "text/plain": [
       "['discoveryinctv', 'discoveryinctv']"
      ]
     },
     "execution_count": 161,
     "metadata": {},
     "output_type": "execute_result"
    },
    {
     "data": {
      "text/plain": [
       "['underarmour', 'feedingamerica']"
      ]
     },
     "execution_count": 161,
     "metadata": {},
     "output_type": "execute_result"
    },
    {
     "data": {
      "text/plain": [
       "['cvshealth', 'cvshealth']"
      ]
     },
     "execution_count": 161,
     "metadata": {},
     "output_type": "execute_result"
    },
    {
     "data": {
      "text/plain": [
       "['comericabank', 'sbagov']"
      ]
     },
     "execution_count": 161,
     "metadata": {},
     "output_type": "execute_result"
    },
    {
     "data": {
      "text/plain": [
       "['morganstanley', 'feedingamerica']"
      ]
     },
     "execution_count": 161,
     "metadata": {},
     "output_type": "execute_result"
    },
    {
     "data": {
      "text/plain": [
       "['morganstanley', 'cdcfound']"
      ]
     },
     "execution_count": 161,
     "metadata": {},
     "output_type": "execute_result"
    },
    {
     "data": {
      "text/plain": [
       "['morganstanley', 'who']"
      ]
     },
     "execution_count": 161,
     "metadata": {},
     "output_type": "execute_result"
    },
    {
     "data": {
      "text/plain": [
       "['itroninc', 'itroninc']"
      ]
     },
     "execution_count": 161,
     "metadata": {},
     "output_type": "execute_result"
    },
    {
     "data": {
      "text/plain": [
       "['citi', 'who']"
      ]
     },
     "execution_count": 161,
     "metadata": {},
     "output_type": "execute_result"
    },
    {
     "data": {
      "text/plain": [
       "['aepnews', 'ftc']"
      ]
     },
     "execution_count": 161,
     "metadata": {},
     "output_type": "execute_result"
    },
    {
     "data": {
      "text/plain": [
       "['hwnelectric', 'hwnelectric']"
      ]
     },
     "execution_count": 161,
     "metadata": {},
     "output_type": "execute_result"
    },
    {
     "data": {
      "text/plain": [
       "['hwnelectric', 'hwnelectric']"
      ]
     },
     "execution_count": 161,
     "metadata": {},
     "output_type": "execute_result"
    },
    {
     "data": {
      "text/plain": [
       "['cummins', 'cummins']"
      ]
     },
     "execution_count": 161,
     "metadata": {},
     "output_type": "execute_result"
    },
    {
     "data": {
      "text/plain": [
       "['prologis', 'prologis']"
      ]
     },
     "execution_count": 161,
     "metadata": {},
     "output_type": "execute_result"
    },
    {
     "data": {
      "text/plain": [
       "['spiritairlines', 'who']"
      ]
     },
     "execution_count": 161,
     "metadata": {},
     "output_type": "execute_result"
    },
    {
     "data": {
      "text/plain": [
       "['spiritairlines', 'cdcgov']"
      ]
     },
     "execution_count": 161,
     "metadata": {},
     "output_type": "execute_result"
    },
    {
     "data": {
      "text/plain": [
       "['mmc_global', 'mmc_global']"
      ]
     },
     "execution_count": 161,
     "metadata": {},
     "output_type": "execute_result"
    },
    {
     "data": {
      "text/plain": [
       "['dte_energy', 'cdcgov']"
      ]
     },
     "execution_count": 161,
     "metadata": {},
     "output_type": "execute_result"
    },
    {
     "data": {
      "text/plain": [
       "['chemours', 'who']"
      ]
     },
     "execution_count": 161,
     "metadata": {},
     "output_type": "execute_result"
    },
    {
     "data": {
      "text/plain": [
       "['cigna', 'cdcgov']"
      ]
     },
     "execution_count": 161,
     "metadata": {},
     "output_type": "execute_result"
    },
    {
     "data": {
      "text/plain": [
       "['dte_energy', 'redcross']"
      ]
     },
     "execution_count": 161,
     "metadata": {},
     "output_type": "execute_result"
    },
    {
     "data": {
      "text/plain": [
       "['proctergamble', 'fifththird']"
      ]
     },
     "execution_count": 161,
     "metadata": {},
     "output_type": "execute_result"
    },
    {
     "data": {
      "text/plain": [
       "['proctergamble', 'unitedwaygc']"
      ]
     },
     "execution_count": 161,
     "metadata": {},
     "output_type": "execute_result"
    },
    {
     "data": {
      "text/plain": [
       "['mmc_global', 'mmc_global']"
      ]
     },
     "execution_count": 161,
     "metadata": {},
     "output_type": "execute_result"
    },
    {
     "data": {
      "text/plain": [
       "['dte_energy', 'redcross']"
      ]
     },
     "execution_count": 161,
     "metadata": {},
     "output_type": "execute_result"
    },
    {
     "data": {
      "text/plain": [
       "['uhs_inc', 'cdcgov']"
      ]
     },
     "execution_count": 161,
     "metadata": {},
     "output_type": "execute_result"
    },
    {
     "data": {
      "text/plain": [
       "['amwater', 'feedingamerica']"
      ]
     },
     "execution_count": 161,
     "metadata": {},
     "output_type": "execute_result"
    },
    {
     "data": {
      "text/plain": [
       "['sysco', 'feedingamerica']"
      ]
     },
     "execution_count": 161,
     "metadata": {},
     "output_type": "execute_result"
    },
    {
     "data": {
      "text/plain": [
       "['proctergamble', 'directrelief']"
      ]
     },
     "execution_count": 161,
     "metadata": {},
     "output_type": "execute_result"
    },
    {
     "data": {
      "text/plain": [
       "['sanderson_corp', 'usda']"
      ]
     },
     "execution_count": 161,
     "metadata": {},
     "output_type": "execute_result"
    },
    {
     "data": {
      "text/plain": [
       "['hwnelectric', 'hwnelectric']"
      ]
     },
     "execution_count": 161,
     "metadata": {},
     "output_type": "execute_result"
    },
    {
     "data": {
      "text/plain": [
       "['lockheedmartin', 'deptofdefense']"
      ]
     },
     "execution_count": 161,
     "metadata": {},
     "output_type": "execute_result"
    },
    {
     "data": {
      "text/plain": [
       "['travelers', 'cdcgov']"
      ]
     },
     "execution_count": 161,
     "metadata": {},
     "output_type": "execute_result"
    },
    {
     "data": {
      "text/plain": [
       "['mmc_global', 'who']"
      ]
     },
     "execution_count": 161,
     "metadata": {},
     "output_type": "execute_result"
    },
    {
     "data": {
      "text/plain": [
       "['labcorp', 'microsoft']"
      ]
     },
     "execution_count": 161,
     "metadata": {},
     "output_type": "execute_result"
    },
    {
     "data": {
      "text/plain": [
       "['mmc_global', 'mmc_global']"
      ]
     },
     "execution_count": 161,
     "metadata": {},
     "output_type": "execute_result"
    },
    {
     "data": {
      "text/plain": [
       "['securian', '2harvest']"
      ]
     },
     "execution_count": 161,
     "metadata": {},
     "output_type": "execute_result"
    },
    {
     "data": {
      "text/plain": [
       "['nblenergy', 'cdcgov']"
      ]
     },
     "execution_count": 161,
     "metadata": {},
     "output_type": "execute_result"
    },
    {
     "data": {
      "text/plain": [
       "['nblenergy', 'who']"
      ]
     },
     "execution_count": 161,
     "metadata": {},
     "output_type": "execute_result"
    },
    {
     "data": {
      "text/plain": [
       "['weareschneider', 'mayoclinic']"
      ]
     },
     "execution_count": 161,
     "metadata": {},
     "output_type": "execute_result"
    },
    {
     "data": {
      "text/plain": [
       "['univision', 'univision']"
      ]
     },
     "execution_count": 161,
     "metadata": {},
     "output_type": "execute_result"
    },
    {
     "data": {
      "text/plain": [
       "['hwnelectric', 'hwnelectric']"
      ]
     },
     "execution_count": 161,
     "metadata": {},
     "output_type": "execute_result"
    },
    {
     "data": {
      "text/plain": [
       "['univision', 'univision']"
      ]
     },
     "execution_count": 161,
     "metadata": {},
     "output_type": "execute_result"
    },
    {
     "data": {
      "text/plain": [
       "['univision', 'univision']"
      ]
     },
     "execution_count": 161,
     "metadata": {},
     "output_type": "execute_result"
    },
    {
     "data": {
      "text/plain": [
       "['mmc_global', 'mmc_global']"
      ]
     },
     "execution_count": 161,
     "metadata": {},
     "output_type": "execute_result"
    },
    {
     "data": {
      "text/plain": [
       "['comcast', 'cdcgov']"
      ]
     },
     "execution_count": 161,
     "metadata": {},
     "output_type": "execute_result"
    },
    {
     "data": {
      "text/plain": [
       "['hwnelectric', 'hwnelectric']"
      ]
     },
     "execution_count": 161,
     "metadata": {},
     "output_type": "execute_result"
    },
    {
     "data": {
      "text/plain": [
       "['uhs_inc', 'cdcgov']"
      ]
     },
     "execution_count": 161,
     "metadata": {},
     "output_type": "execute_result"
    },
    {
     "data": {
      "text/plain": [
       "['cvshealth', 'aetna']"
      ]
     },
     "execution_count": 161,
     "metadata": {},
     "output_type": "execute_result"
    },
    {
     "data": {
      "text/plain": [
       "['spglobal', 'amazon']"
      ]
     },
     "execution_count": 161,
     "metadata": {},
     "output_type": "execute_result"
    },
    {
     "data": {
      "text/plain": [
       "['cigna', 'who']"
      ]
     },
     "execution_count": 161,
     "metadata": {},
     "output_type": "execute_result"
    },
    {
     "data": {
      "text/plain": [
       "['zebratechnology', 'redcross']"
      ]
     },
     "execution_count": 161,
     "metadata": {},
     "output_type": "execute_result"
    },
    {
     "data": {
      "text/plain": [
       "['portlandgeneral', 'oregonfoodbank']"
      ]
     },
     "execution_count": 161,
     "metadata": {},
     "output_type": "execute_result"
    },
    {
     "data": {
      "text/plain": [
       "['hpe', 'whostp']"
      ]
     },
     "execution_count": 161,
     "metadata": {},
     "output_type": "execute_result"
    },
    {
     "data": {
      "text/plain": [
       "['prudential', 'prudential']"
      ]
     },
     "execution_count": 161,
     "metadata": {},
     "output_type": "execute_result"
    },
    {
     "data": {
      "text/plain": [
       "['prudential', 'govmurphy']"
      ]
     },
     "execution_count": 161,
     "metadata": {},
     "output_type": "execute_result"
    },
    {
     "data": {
      "text/plain": [
       "['discoveryinctv', 'nokidhungry']"
      ]
     },
     "execution_count": 161,
     "metadata": {},
     "output_type": "execute_result"
    },
    {
     "data": {
      "text/plain": [
       "['itroninc', 'itroninc']"
      ]
     },
     "execution_count": 161,
     "metadata": {},
     "output_type": "execute_result"
    },
    {
     "data": {
      "text/plain": [
       "['brookdaleliving', 'who']"
      ]
     },
     "execution_count": 161,
     "metadata": {},
     "output_type": "execute_result"
    },
    {
     "data": {
      "text/plain": [
       "['mmc_global', 'mmc_global']"
      ]
     },
     "execution_count": 161,
     "metadata": {},
     "output_type": "execute_result"
    },
    {
     "data": {
      "text/plain": [
       "['spglobal', 'epa']"
      ]
     },
     "execution_count": 161,
     "metadata": {},
     "output_type": "execute_result"
    },
    {
     "data": {
      "text/plain": [
       "['uhs_inc', 'governortomwolf']"
      ]
     },
     "execution_count": 161,
     "metadata": {},
     "output_type": "execute_result"
    },
    {
     "data": {
      "text/plain": [
       "['uhs_inc', 'cdcgov']"
      ]
     },
     "execution_count": 161,
     "metadata": {},
     "output_type": "execute_result"
    },
    {
     "data": {
      "text/plain": [
       "['uhs_inc', 'pahealthdept']"
      ]
     },
     "execution_count": 161,
     "metadata": {},
     "output_type": "execute_result"
    },
    {
     "data": {
      "text/plain": [
       "['abbvie', 'feedingamerica']"
      ]
     },
     "execution_count": 161,
     "metadata": {},
     "output_type": "execute_result"
    },
    {
     "data": {
      "text/plain": [
       "['westerndigital', 'vmcfoundation']"
      ]
     },
     "execution_count": 161,
     "metadata": {},
     "output_type": "execute_result"
    },
    {
     "data": {
      "text/plain": [
       "['hwnelectric', 'hwnelectric']"
      ]
     },
     "execution_count": 161,
     "metadata": {},
     "output_type": "execute_result"
    },
    {
     "data": {
      "text/plain": [
       "['albertsonscos', 'mgmresortsintl']"
      ]
     },
     "execution_count": 161,
     "metadata": {},
     "output_type": "execute_result"
    },
    {
     "data": {
      "text/plain": [
       "['ford', '3m']"
      ]
     },
     "execution_count": 161,
     "metadata": {},
     "output_type": "execute_result"
    },
    {
     "data": {
      "text/plain": [
       "['mmc_global', 'mmc_global']"
      ]
     },
     "execution_count": 161,
     "metadata": {},
     "output_type": "execute_result"
    },
    {
     "data": {
      "text/plain": [
       "['fmccorp', 'who']"
      ]
     },
     "execution_count": 161,
     "metadata": {},
     "output_type": "execute_result"
    },
    {
     "data": {
      "text/plain": [
       "['generalelectric', 'ford']"
      ]
     },
     "execution_count": 161,
     "metadata": {},
     "output_type": "execute_result"
    },
    {
     "data": {
      "text/plain": [
       "['merck', 'cdcgov']"
      ]
     },
     "execution_count": 161,
     "metadata": {},
     "output_type": "execute_result"
    },
    {
     "data": {
      "text/plain": [
       "['iqvia_global', 'questdx']"
      ]
     },
     "execution_count": 161,
     "metadata": {},
     "output_type": "execute_result"
    },
    {
     "data": {
      "text/plain": [
       "['presidio', 'presidio']"
      ]
     },
     "execution_count": 161,
     "metadata": {},
     "output_type": "execute_result"
    },
    {
     "data": {
      "text/plain": [
       "['spglobal', 'boeing']"
      ]
     },
     "execution_count": 161,
     "metadata": {},
     "output_type": "execute_result"
    },
    {
     "data": {
      "text/plain": [
       "['itroninc', 'itroninc']"
      ]
     },
     "execution_count": 161,
     "metadata": {},
     "output_type": "execute_result"
    },
    {
     "data": {
      "text/plain": [
       "['bdandco', 'directrelief']"
      ]
     },
     "execution_count": 161,
     "metadata": {},
     "output_type": "execute_result"
    },
    {
     "data": {
      "text/plain": [
       "['bdandco', 'who']"
      ]
     },
     "execution_count": 161,
     "metadata": {},
     "output_type": "execute_result"
    },
    {
     "data": {
      "text/plain": [
       "['bdandco', 'americares']"
      ]
     },
     "execution_count": 161,
     "metadata": {},
     "output_type": "execute_result"
    },
    {
     "data": {
      "text/plain": [
       "['bdandco', 'imc_worldwide']"
      ]
     },
     "execution_count": 161,
     "metadata": {},
     "output_type": "execute_result"
    },
    {
     "data": {
      "text/plain": [
       "['bdandco', 'projecthopeorg']"
      ]
     },
     "execution_count": 161,
     "metadata": {},
     "output_type": "execute_result"
    },
    {
     "data": {
      "text/plain": [
       "['bdandco', 'cdcfound']"
      ]
     },
     "execution_count": 161,
     "metadata": {},
     "output_type": "execute_result"
    },
    {
     "data": {
      "text/plain": [
       "['bdandco', 'redcross']"
      ]
     },
     "execution_count": 161,
     "metadata": {},
     "output_type": "execute_result"
    },
    {
     "data": {
      "text/plain": [
       "['teradata', 'ford']"
      ]
     },
     "execution_count": 161,
     "metadata": {},
     "output_type": "execute_result"
    },
    {
     "data": {
      "text/plain": [
       "['teradata', '3m']"
      ]
     },
     "execution_count": 161,
     "metadata": {},
     "output_type": "execute_result"
    },
    {
     "data": {
      "text/plain": [
       "['perkinelmer', 'us_fda']"
      ]
     },
     "execution_count": 161,
     "metadata": {},
     "output_type": "execute_result"
    },
    {
     "data": {
      "text/plain": [
       "['3m', 'ford']"
      ]
     },
     "execution_count": 161,
     "metadata": {},
     "output_type": "execute_result"
    },
    {
     "data": {
      "text/plain": [
       "['berryglobalinc', 'dhsgov']"
      ]
     },
     "execution_count": 161,
     "metadata": {},
     "output_type": "execute_result"
    },
    {
     "data": {
      "text/plain": [
       "['mmc_global', 'mmc_global']"
      ]
     },
     "execution_count": 161,
     "metadata": {},
     "output_type": "execute_result"
    },
    {
     "data": {
      "text/plain": [
       "['mmc_global', 'mmc_global']"
      ]
     },
     "execution_count": 161,
     "metadata": {},
     "output_type": "execute_result"
    },
    {
     "data": {
      "text/plain": [
       "['fmccorp', 'cdcgov']"
      ]
     },
     "execution_count": 161,
     "metadata": {},
     "output_type": "execute_result"
    },
    {
     "data": {
      "text/plain": [
       "['cvshealth', 'aetna']"
      ]
     },
     "execution_count": 161,
     "metadata": {},
     "output_type": "execute_result"
    },
    {
     "data": {
      "text/plain": [
       "['stifel', 'stifel']"
      ]
     },
     "execution_count": 161,
     "metadata": {},
     "output_type": "execute_result"
    },
    {
     "data": {
      "text/plain": [
       "['ballcorphq', 'redcross']"
      ]
     },
     "execution_count": 161,
     "metadata": {},
     "output_type": "execute_result"
    },
    {
     "data": {
      "text/plain": [
       "['resmed', 'nygovcuomo']"
      ]
     },
     "execution_count": 161,
     "metadata": {},
     "output_type": "execute_result"
    },
    {
     "data": {
      "text/plain": [
       "['nasdaq', 'nasdaq']"
      ]
     },
     "execution_count": 161,
     "metadata": {},
     "output_type": "execute_result"
    },
    {
     "data": {
      "text/plain": [
       "['mercuryins', 'att']"
      ]
     },
     "execution_count": 161,
     "metadata": {},
     "output_type": "execute_result"
    },
    {
     "data": {
      "text/plain": [
       "['mercuryins', 'wearefarmers']"
      ]
     },
     "execution_count": 161,
     "metadata": {},
     "output_type": "execute_result"
    },
    {
     "data": {
      "text/plain": [
       "['mmc_global', 'mmc_global']"
      ]
     },
     "execution_count": 161,
     "metadata": {},
     "output_type": "execute_result"
    },
    {
     "data": {
      "text/plain": [
       "['servicenow', 'dxctechnology']"
      ]
     },
     "execution_count": 161,
     "metadata": {},
     "output_type": "execute_result"
    },
    {
     "data": {
      "text/plain": [
       "['chemours', 'nscsafety']"
      ]
     },
     "execution_count": 161,
     "metadata": {},
     "output_type": "execute_result"
    },
    {
     "data": {
      "text/plain": [
       "['travelers', 'cdcgov']"
      ]
     },
     "execution_count": 161,
     "metadata": {},
     "output_type": "execute_result"
    },
    {
     "data": {
      "text/plain": [
       "['americanexpress', 'feedingamerica']"
      ]
     },
     "execution_count": 161,
     "metadata": {},
     "output_type": "execute_result"
    },
    {
     "data": {
      "text/plain": [
       "['sysco', 'cdcgov']"
      ]
     },
     "execution_count": 161,
     "metadata": {},
     "output_type": "execute_result"
    },
    {
     "data": {
      "text/plain": [
       "['sysco', 'who']"
      ]
     },
     "execution_count": 161,
     "metadata": {},
     "output_type": "execute_result"
    },
    {
     "data": {
      "text/plain": [
       "['zionsbank', 'fdicgov']"
      ]
     },
     "execution_count": 161,
     "metadata": {},
     "output_type": "execute_result"
    },
    {
     "data": {
      "text/plain": [
       "['thermofisher', 'us_fda']"
      ]
     },
     "execution_count": 161,
     "metadata": {},
     "output_type": "execute_result"
    },
    {
     "data": {
      "text/plain": [
       "['statestreet', 'who']"
      ]
     },
     "execution_count": 161,
     "metadata": {},
     "output_type": "execute_result"
    },
    {
     "data": {
      "text/plain": [
       "['statestreet', 'cdcfound']"
      ]
     },
     "execution_count": 161,
     "metadata": {},
     "output_type": "execute_result"
    },
    {
     "data": {
      "text/plain": [
       "['prologis', 'prologis']"
      ]
     },
     "execution_count": 161,
     "metadata": {},
     "output_type": "execute_result"
    },
    {
     "data": {
      "text/plain": [
       "['equinix', 'netflix']"
      ]
     },
     "execution_count": 161,
     "metadata": {},
     "output_type": "execute_result"
    },
    {
     "data": {
      "text/plain": [
       "['netapp', 'nvidia']"
      ]
     },
     "execution_count": 161,
     "metadata": {},
     "output_type": "execute_result"
    },
    {
     "data": {
      "text/plain": [
       "['spglobal', 'nike']"
      ]
     },
     "execution_count": 161,
     "metadata": {},
     "output_type": "execute_result"
    },
    {
     "data": {
      "text/plain": [
       "['exelon', 'exelon']"
      ]
     },
     "execution_count": 161,
     "metadata": {},
     "output_type": "execute_result"
    },
    {
     "data": {
      "text/plain": [
       "['msc_industrial', 'asspsafety']"
      ]
     },
     "execution_count": 161,
     "metadata": {},
     "output_type": "execute_result"
    },
    {
     "data": {
      "text/plain": [
       "['intel', 'antheminc']"
      ]
     },
     "execution_count": 161,
     "metadata": {},
     "output_type": "execute_result"
    },
    {
     "data": {
      "text/plain": [
       "['admupdates', 'who']"
      ]
     },
     "execution_count": 161,
     "metadata": {},
     "output_type": "execute_result"
    },
    {
     "data": {
      "text/plain": [
       "['marathonpetroco', 'govmikedewine']"
      ]
     },
     "execution_count": 161,
     "metadata": {},
     "output_type": "execute_result"
    },
    {
     "data": {
      "text/plain": [
       "['intlpaperco', 'who']"
      ]
     },
     "execution_count": 161,
     "metadata": {},
     "output_type": "execute_result"
    },
    {
     "data": {
      "text/plain": [
       "['intlpaperco', 'cdcgov']"
      ]
     },
     "execution_count": 161,
     "metadata": {},
     "output_type": "execute_result"
    },
    {
     "data": {
      "text/plain": [
       "['equinix', 'netflix']"
      ]
     },
     "execution_count": 161,
     "metadata": {},
     "output_type": "execute_result"
    },
    {
     "data": {
      "text/plain": [
       "['equinix', 'equinix']"
      ]
     },
     "execution_count": 161,
     "metadata": {},
     "output_type": "execute_result"
    },
    {
     "data": {
      "text/plain": [
       "['uhs_inc', 'cdcgov']"
      ]
     },
     "execution_count": 161,
     "metadata": {},
     "output_type": "execute_result"
    },
    {
     "data": {
      "text/plain": [
       "['resmed', 'nygovcuomo']"
      ]
     },
     "execution_count": 161,
     "metadata": {},
     "output_type": "execute_result"
    },
    {
     "data": {
      "text/plain": [
       "['prudential', 'prudential']"
      ]
     },
     "execution_count": 161,
     "metadata": {},
     "output_type": "execute_result"
    },
    {
     "data": {
      "text/plain": [
       "['kccorp', 'unitedway']"
      ]
     },
     "execution_count": 161,
     "metadata": {},
     "output_type": "execute_result"
    },
    {
     "data": {
      "text/plain": [
       "['fmccorp', 'pennmedicine']"
      ]
     },
     "execution_count": 161,
     "metadata": {},
     "output_type": "execute_result"
    },
    {
     "data": {
      "text/plain": [
       "['proctergamble', 'feedingamerica']"
      ]
     },
     "execution_count": 161,
     "metadata": {},
     "output_type": "execute_result"
    },
    {
     "data": {
      "text/plain": [
       "['corning', 'nygovcuomo']"
      ]
     },
     "execution_count": 161,
     "metadata": {},
     "output_type": "execute_result"
    },
    {
     "data": {
      "text/plain": [
       "['abbvie', 'imc_worldwide']"
      ]
     },
     "execution_count": 161,
     "metadata": {},
     "output_type": "execute_result"
    },
    {
     "data": {
      "text/plain": [
       "['abbvie', 'feedingamerica']"
      ]
     },
     "execution_count": 161,
     "metadata": {},
     "output_type": "execute_result"
    },
    {
     "data": {
      "text/plain": [
       "['abbvie', 'directrelief']"
      ]
     },
     "execution_count": 161,
     "metadata": {},
     "output_type": "execute_result"
    },
    {
     "data": {
      "text/plain": [
       "['davita', 'cmsgov']"
      ]
     },
     "execution_count": 161,
     "metadata": {},
     "output_type": "execute_result"
    },
    {
     "data": {
      "text/plain": [
       "['mmc_global', 'mmc_global']"
      ]
     },
     "execution_count": 161,
     "metadata": {},
     "output_type": "execute_result"
    },
    {
     "data": {
      "text/plain": [
       "['nasdaq', 'who']"
      ]
     },
     "execution_count": 161,
     "metadata": {},
     "output_type": "execute_result"
    },
    {
     "data": {
      "text/plain": [
       "['goldmansachs', 'coach']"
      ]
     },
     "execution_count": 161,
     "metadata": {},
     "output_type": "execute_result"
    },
    {
     "data": {
      "text/plain": [
       "['proctergamble', 'who']"
      ]
     },
     "execution_count": 161,
     "metadata": {},
     "output_type": "execute_result"
    },
    {
     "data": {
      "text/plain": [
       "['comcast', 'cdcgov']"
      ]
     },
     "execution_count": 161,
     "metadata": {},
     "output_type": "execute_result"
    },
    {
     "data": {
      "text/plain": [
       "['proctergamble', 'who']"
      ]
     },
     "execution_count": 161,
     "metadata": {},
     "output_type": "execute_result"
    },
    {
     "data": {
      "text/plain": [
       "['nationwide', 'govmikedewine']"
      ]
     },
     "execution_count": 161,
     "metadata": {},
     "output_type": "execute_result"
    },
    {
     "data": {
      "text/plain": [
       "['nationwide', 'ohdeptofhealth']"
      ]
     },
     "execution_count": 161,
     "metadata": {},
     "output_type": "execute_result"
    },
    {
     "data": {
      "text/plain": [
       "['proctergamble', 'who']"
      ]
     },
     "execution_count": 161,
     "metadata": {},
     "output_type": "execute_result"
    },
    {
     "data": {
      "text/plain": [
       "['proctergamble', 'who']"
      ]
     },
     "execution_count": 161,
     "metadata": {},
     "output_type": "execute_result"
    },
    {
     "data": {
      "text/plain": [
       "['proctergamble', 'who']"
      ]
     },
     "execution_count": 161,
     "metadata": {},
     "output_type": "execute_result"
    },
    {
     "data": {
      "text/plain": [
       "['proctergamble', 'who']"
      ]
     },
     "execution_count": 161,
     "metadata": {},
     "output_type": "execute_result"
    },
    {
     "data": {
      "text/plain": [
       "['proctergamble', 'who']"
      ]
     },
     "execution_count": 161,
     "metadata": {},
     "output_type": "execute_result"
    },
    {
     "data": {
      "text/plain": [
       "['proctergamble', 'who']"
      ]
     },
     "execution_count": 161,
     "metadata": {},
     "output_type": "execute_result"
    },
    {
     "data": {
      "text/plain": [
       "['proctergamble', 'm25m_org']"
      ]
     },
     "execution_count": 161,
     "metadata": {},
     "output_type": "execute_result"
    },
    {
     "data": {
      "text/plain": [
       "['proctergamble', 'm25m_org']"
      ]
     },
     "execution_count": 161,
     "metadata": {},
     "output_type": "execute_result"
    },
    {
     "data": {
      "text/plain": [
       "['proctergamble', 'm25m_org']"
      ]
     },
     "execution_count": 161,
     "metadata": {},
     "output_type": "execute_result"
    },
    {
     "data": {
      "text/plain": [
       "['atvi_ab', 'who']"
      ]
     },
     "execution_count": 161,
     "metadata": {},
     "output_type": "execute_result"
    },
    {
     "data": {
      "text/plain": [
       "['inglesadvantage', 'starbucks']"
      ]
     },
     "execution_count": 161,
     "metadata": {},
     "output_type": "execute_result"
    },
    {
     "data": {
      "text/plain": [
       "['proctergamble', 'who']"
      ]
     },
     "execution_count": 161,
     "metadata": {},
     "output_type": "execute_result"
    },
    {
     "data": {
      "text/plain": [
       "['proctergamble', 'who']"
      ]
     },
     "execution_count": 161,
     "metadata": {},
     "output_type": "execute_result"
    },
    {
     "data": {
      "text/plain": [
       "['proctergamble', 'who']"
      ]
     },
     "execution_count": 161,
     "metadata": {},
     "output_type": "execute_result"
    },
    {
     "data": {
      "text/plain": [
       "['equinix', 'netflix']"
      ]
     },
     "execution_count": 161,
     "metadata": {},
     "output_type": "execute_result"
    },
    {
     "data": {
      "text/plain": [
       "['manpowergroup', 'manpowergroup']"
      ]
     },
     "execution_count": 161,
     "metadata": {},
     "output_type": "execute_result"
    },
    {
     "data": {
      "text/plain": [
       "['atlasairww', 'fema']"
      ]
     },
     "execution_count": 161,
     "metadata": {},
     "output_type": "execute_result"
    },
    {
     "data": {
      "text/plain": [
       "['xcelenergyctr', 'feedingamerica']"
      ]
     },
     "execution_count": 161,
     "metadata": {},
     "output_type": "execute_result"
    },
    {
     "data": {
      "text/plain": [
       "['proctergamble', 'feedingamerica']"
      ]
     },
     "execution_count": 161,
     "metadata": {},
     "output_type": "execute_result"
    },
    {
     "data": {
      "text/plain": [
       "['proctergamble', 'feedingamerica']"
      ]
     },
     "execution_count": 161,
     "metadata": {},
     "output_type": "execute_result"
    },
    {
     "data": {
      "text/plain": [
       "['proctergamble', 'feedingamerica']"
      ]
     },
     "execution_count": 161,
     "metadata": {},
     "output_type": "execute_result"
    },
    {
     "data": {
      "text/plain": [
       "['prudential', 'prudential']"
      ]
     },
     "execution_count": 161,
     "metadata": {},
     "output_type": "execute_result"
    },
    {
     "data": {
      "text/plain": [
       "['nisourceinc', 'redcross']"
      ]
     },
     "execution_count": 161,
     "metadata": {},
     "output_type": "execute_result"
    },
    {
     "data": {
      "text/plain": [
       "['prologis', 'prologis']"
      ]
     },
     "execution_count": 161,
     "metadata": {},
     "output_type": "execute_result"
    },
    {
     "data": {
      "text/plain": [
       "['mmc_global', 'mmc_global']"
      ]
     },
     "execution_count": 161,
     "metadata": {},
     "output_type": "execute_result"
    },
    {
     "data": {
      "text/plain": [
       "['prahsciences', 'who']"
      ]
     },
     "execution_count": 161,
     "metadata": {},
     "output_type": "execute_result"
    },
    {
     "data": {
      "text/plain": [
       "['guardianlife', 'feedingamerica']"
      ]
     },
     "execution_count": 161,
     "metadata": {},
     "output_type": "execute_result"
    },
    {
     "data": {
      "text/plain": [
       "['spglobal', 'spglobal']"
      ]
     },
     "execution_count": 161,
     "metadata": {},
     "output_type": "execute_result"
    },
    {
     "data": {
      "text/plain": [
       "['granite', 'redcross']"
      ]
     },
     "execution_count": 161,
     "metadata": {},
     "output_type": "execute_result"
    },
    {
     "data": {
      "text/plain": [
       "['molinahealth', 'govmikedewine']"
      ]
     },
     "execution_count": 161,
     "metadata": {},
     "output_type": "execute_result"
    },
    {
     "data": {
      "text/plain": [
       "['magellanhealth', 'stmarysfoodbank']"
      ]
     },
     "execution_count": 161,
     "metadata": {},
     "output_type": "execute_result"
    },
    {
     "data": {
      "text/plain": [
       "['pitneybowes', 'pitneybowes']"
      ]
     },
     "execution_count": 161,
     "metadata": {},
     "output_type": "execute_result"
    },
    {
     "data": {
      "text/plain": [
       "['chsinc', 'unitedwaytc']"
      ]
     },
     "execution_count": 161,
     "metadata": {},
     "output_type": "execute_result"
    },
    {
     "data": {
      "text/plain": [
       "['generalelectric', 'ford']"
      ]
     },
     "execution_count": 161,
     "metadata": {},
     "output_type": "execute_result"
    },
    {
     "data": {
      "text/plain": [
       "['pvhcorp', 'who']"
      ]
     },
     "execution_count": 161,
     "metadata": {},
     "output_type": "execute_result"
    },
    {
     "data": {
      "text/plain": [
       "['labcorp', 'labcorp']"
      ]
     },
     "execution_count": 161,
     "metadata": {},
     "output_type": "execute_result"
    },
    {
     "data": {
      "text/plain": [
       "['unisyscorp', 'unisyscorp']"
      ]
     },
     "execution_count": 161,
     "metadata": {},
     "output_type": "execute_result"
    },
    {
     "data": {
      "text/plain": [
       "['atlasairww', 'fema']"
      ]
     },
     "execution_count": 161,
     "metadata": {},
     "output_type": "execute_result"
    },
    {
     "data": {
      "text/plain": [
       "['hanesbrands', 'redcross']"
      ]
     },
     "execution_count": 161,
     "metadata": {},
     "output_type": "execute_result"
    },
    {
     "data": {
      "text/plain": [
       "['entergy', 'cdcgov']"
      ]
     },
     "execution_count": 161,
     "metadata": {},
     "output_type": "execute_result"
    },
    {
     "data": {
      "text/plain": [
       "['firstenergycorp', 'unitedway']"
      ]
     },
     "execution_count": 161,
     "metadata": {},
     "output_type": "execute_result"
    },
    {
     "data": {
      "text/plain": [
       "['equinix', 'equinix']"
      ]
     },
     "execution_count": 161,
     "metadata": {},
     "output_type": "execute_result"
    },
    {
     "data": {
      "text/plain": [
       "['equinix', 'netflix']"
      ]
     },
     "execution_count": 161,
     "metadata": {},
     "output_type": "execute_result"
    },
    {
     "data": {
      "text/plain": [
       "['spglobal', 'usda']"
      ]
     },
     "execution_count": 161,
     "metadata": {},
     "output_type": "execute_result"
    },
    {
     "data": {
      "text/plain": [
       "['spglobal', 'spglobal']"
      ]
     },
     "execution_count": 161,
     "metadata": {},
     "output_type": "execute_result"
    }
   ],
   "source": [
    "# 1. Split the list of accounts mentioned\n",
    "# 2. Check if each account is within our sample\n",
    "# 3. Make the edgelist\n",
    "\n",
    "men_el=[]\n",
    "for i in men_df.index:\n",
    "    if len(men_df.mentioned[i])!=0:          \n",
    "        for k in men_df.mentioned[i]:   \n",
    "            line=[None]*2\n",
    "            if k.lower() in list(cov.screen_name):   \n",
    "                line[0]=men_df.screen_name[i].lower()\n",
    "                line[1]=k.lower()\n",
    "                line\n",
    "                men_el.append(line)\n",
    "                    "
   ]
  },
  {
   "cell_type": "code",
   "execution_count": 162,
   "metadata": {},
   "outputs": [],
   "source": [
    "# Create empty DIRECTED graph\n",
    "G = nx.DiGraph()\n",
    "\n",
    "# Add edges \n",
    "G.add_edges_from(men_el)"
   ]
  },
  {
   "cell_type": "code",
   "execution_count": 163,
   "metadata": {},
   "outputs": [
    {
     "data": {
      "text/plain": [
       "<Figure size 1200x1000 with 0 Axes>"
      ]
     },
     "execution_count": 163,
     "metadata": {},
     "output_type": "execute_result"
    },
    {
     "data": {
      "text/plain": [
       "Text(0.5, 1.0, 'The mention network of Fortune companies')"
      ]
     },
     "execution_count": 163,
     "metadata": {},
     "output_type": "execute_result"
    },
    {
     "data": {
      "text/plain": [
       "(-1.1985657899907711,\n",
       " 1.0896685518076408,\n",
       " -0.9672887506300664,\n",
       " 0.9171791360468977)"
      ]
     },
     "execution_count": 163,
     "metadata": {},
     "output_type": "execute_result"
    },
    {
     "data": {
      "image/png": "[encoded data removed]",
      "text/plain": [
       "<Figure size 1200x1000 with 1 Axes>"
      ]
     },
     "metadata": {},
     "output_type": "display_data"
    }
   ],
   "source": [
    "# Take a look\n",
    "figure(figsize=(12, 10), dpi=100)\n",
    "\n",
    "# node size proportional to degree\n",
    "node_size= [x * 5000 for x in nx.degree_centrality(G).values()]\n",
    "\n",
    "# choose a layout function\n",
    "pos=nx.kamada_kawai_layout(G)\n",
    "\n",
    "# edge color\n",
    "edge_color=\"grey\"\n",
    "\n",
    "# make arrows more obvious\n",
    "arrowsize=20\n",
    "\n",
    "# make a list of colors \n",
    "color=[cov.loc[cov.screen_name==i, \"type\"].iloc[0] for i in G.nodes]\n",
    "replacements = {\n",
    "    \"business\": \"blue\",\n",
    "    \"ngo\": \"green\",\n",
    "    \"gov\": \"pink\",\n",
    "}\n",
    "node_color = [replacements.get(x, x) for x in color]\n",
    "\n",
    "\n",
    "nx.drawing.nx_pylab.draw_networkx(G,node_size=node_size, \n",
    "                                  pos=pos,\n",
    "                                  node_color=node_color,\n",
    "                                  arrowsize=arrowsize,\n",
    "                                  edge_color=edge_color,\n",
    "                                  with_labels=True)\n",
    "plt.title('The mention network of Fortune companies')\n",
    "plt.axis(\"off\") \n",
    "plt.show()\n",
    "\n",
    "# What differences can you see between the retweet and mention networks?"
   ]
  },
  {
   "cell_type": "code",
   "execution_count": 164,
   "metadata": {},
   "outputs": [
    {
     "data": {
      "text/plain": [
       "182"
      ]
     },
     "execution_count": 164,
     "metadata": {},
     "output_type": "execute_result"
    },
    {
     "data": {
      "text/html": [
       "<table class=\"simpletable\">\n",
       "<caption>OLS Regression Results</caption>\n",
       "<tr>\n",
       "  <th>Dep. Variable:</th>        <td>indegree</td>     <th>  R-squared:         </th> <td>   0.193</td>\n",
       "</tr>\n",
       "<tr>\n",
       "  <th>Model:</th>                   <td>OLS</td>       <th>  Adj. R-squared:    </th> <td>  -0.014</td>\n",
       "</tr>\n",
       "<tr>\n",
       "  <th>Method:</th>             <td>Least Squares</td>  <th>  F-statistic:       </th> <td>  0.9314</td>\n",
       "</tr>\n",
       "<tr>\n",
       "  <th>Date:</th>             <td>Sat, 02 Oct 2021</td> <th>  Prob (F-statistic):</th>  <td> 0.586</td> \n",
       "</tr>\n",
       "<tr>\n",
       "  <th>Time:</th>                 <td>19:06:30</td>     <th>  Log-Likelihood:    </th> <td>  516.14</td>\n",
       "</tr>\n",
       "<tr>\n",
       "  <th>No. Observations:</th>      <td>   182</td>      <th>  AIC:               </th> <td>  -956.3</td>\n",
       "</tr>\n",
       "<tr>\n",
       "  <th>Df Residuals:</th>          <td>   144</td>      <th>  BIC:               </th> <td>  -834.5</td>\n",
       "</tr>\n",
       "<tr>\n",
       "  <th>Df Model:</th>              <td>    37</td>      <th>                     </th>     <td> </td>   \n",
       "</tr>\n",
       "<tr>\n",
       "  <th>Covariance Type:</th>      <td>nonrobust</td>    <th>                     </th>     <td> </td>   \n",
       "</tr>\n",
       "</table>\n",
       "<table class=\"simpletable\">\n",
       "<tr>\n",
       "            <td></td>              <th>coef</th>     <th>std err</th>      <th>t</th>      <th>P>|t|</th>  <th>[0.025</th>    <th>0.975]</th>  \n",
       "</tr>\n",
       "<tr>\n",
       "  <th>Intercept</th>            <td>   -0.0012</td> <td>    0.012</td> <td>   -0.103</td> <td> 0.918</td> <td>   -0.024</td> <td>    0.022</td>\n",
       "</tr>\n",
       "<tr>\n",
       "  <th>C(type)[T.gov]</th>       <td>    0.0054</td> <td>    0.005</td> <td>    1.008</td> <td> 0.315</td> <td>   -0.005</td> <td>    0.016</td>\n",
       "</tr>\n",
       "<tr>\n",
       "  <th>C(type)[T.ngo]</th>       <td>    0.0079</td> <td>    0.005</td> <td>    1.722</td> <td> 0.087</td> <td>   -0.001</td> <td>    0.017</td>\n",
       "</tr>\n",
       "<tr>\n",
       "  <th>C(state)[T.CA]</th>       <td>    0.0033</td> <td>    0.012</td> <td>    0.279</td> <td> 0.780</td> <td>   -0.020</td> <td>    0.027</td>\n",
       "</tr>\n",
       "<tr>\n",
       "  <th>C(state)[T.CO]</th>       <td>    0.0012</td> <td>    0.016</td> <td>    0.074</td> <td> 0.941</td> <td>   -0.031</td> <td>    0.033</td>\n",
       "</tr>\n",
       "<tr>\n",
       "  <th>C(state)[T.CT]</th>       <td>    0.0034</td> <td>    0.014</td> <td>    0.242</td> <td> 0.809</td> <td>   -0.024</td> <td>    0.031</td>\n",
       "</tr>\n",
       "<tr>\n",
       "  <th>C(state)[T.DC]</th>       <td>    0.0209</td> <td>    0.016</td> <td>    1.297</td> <td> 0.197</td> <td>   -0.011</td> <td>    0.053</td>\n",
       "</tr>\n",
       "<tr>\n",
       "  <th>C(state)[T.DE]</th>       <td>    0.0012</td> <td>    0.020</td> <td>    0.060</td> <td> 0.952</td> <td>   -0.038</td> <td>    0.040</td>\n",
       "</tr>\n",
       "<tr>\n",
       "  <th>C(state)[T.FL]</th>       <td>    0.0012</td> <td>    0.020</td> <td>    0.060</td> <td> 0.952</td> <td>   -0.038</td> <td>    0.040</td>\n",
       "</tr>\n",
       "<tr>\n",
       "  <th>C(state)[T.GA]</th>       <td>    0.0099</td> <td>    0.020</td> <td>    0.501</td> <td> 0.617</td> <td>   -0.029</td> <td>    0.049</td>\n",
       "</tr>\n",
       "<tr>\n",
       "  <th>C(state)[T.HI]</th>       <td>    0.0067</td> <td>    0.020</td> <td>    0.341</td> <td> 0.734</td> <td>   -0.032</td> <td>    0.046</td>\n",
       "</tr>\n",
       "<tr>\n",
       "  <th>C(state)[T.ID]</th>       <td>    0.0012</td> <td>    0.020</td> <td>    0.060</td> <td> 0.952</td> <td>   -0.038</td> <td>    0.040</td>\n",
       "</tr>\n",
       "<tr>\n",
       "  <th>C(state)[T.IL]</th>       <td>    0.0078</td> <td>    0.012</td> <td>    0.621</td> <td> 0.536</td> <td>   -0.017</td> <td>    0.032</td>\n",
       "</tr>\n",
       "<tr>\n",
       "  <th>C(state)[T.IN]</th>       <td>    0.0028</td> <td>    0.013</td> <td>    0.215</td> <td> 0.830</td> <td>   -0.023</td> <td>    0.029</td>\n",
       "</tr>\n",
       "<tr>\n",
       "  <th>C(state)[T.KS]</th>       <td>    0.0067</td> <td>    0.020</td> <td>    0.341</td> <td> 0.734</td> <td>   -0.032</td> <td>    0.046</td>\n",
       "</tr>\n",
       "<tr>\n",
       "  <th>C(state)[T.KY]</th>       <td>    0.0012</td> <td>    0.020</td> <td>    0.060</td> <td> 0.952</td> <td>   -0.038</td> <td>    0.040</td>\n",
       "</tr>\n",
       "<tr>\n",
       "  <th>C(state)[T.LA]</th>       <td>    0.0012</td> <td>    0.020</td> <td>    0.060</td> <td> 0.952</td> <td>   -0.038</td> <td>    0.040</td>\n",
       "</tr>\n",
       "<tr>\n",
       "  <th>C(state)[T.MA]</th>       <td>    0.0012</td> <td>    0.014</td> <td>    0.088</td> <td> 0.930</td> <td>   -0.026</td> <td>    0.028</td>\n",
       "</tr>\n",
       "<tr>\n",
       "  <th>C(state)[T.MD]</th>       <td>    0.0030</td> <td>    0.015</td> <td>    0.205</td> <td> 0.838</td> <td>   -0.026</td> <td>    0.032</td>\n",
       "</tr>\n",
       "<tr>\n",
       "  <th>C(state)[T.MI]</th>       <td>    0.0104</td> <td>    0.015</td> <td>    0.705</td> <td> 0.482</td> <td>   -0.019</td> <td>    0.040</td>\n",
       "</tr>\n",
       "<tr>\n",
       "  <th>C(state)[T.MN]</th>       <td>    0.0021</td> <td>    0.013</td> <td>    0.164</td> <td> 0.870</td> <td>   -0.023</td> <td>    0.028</td>\n",
       "</tr>\n",
       "<tr>\n",
       "  <th>C(state)[T.MO]</th>       <td>    0.0067</td> <td>    0.020</td> <td>    0.341</td> <td> 0.734</td> <td>   -0.032</td> <td>    0.046</td>\n",
       "</tr>\n",
       "<tr>\n",
       "  <th>C(state)[T.MS]</th>       <td>    0.0012</td> <td>    0.020</td> <td>    0.060</td> <td> 0.952</td> <td>   -0.038</td> <td>    0.040</td>\n",
       "</tr>\n",
       "<tr>\n",
       "  <th>C(state)[T.NC]</th>       <td>    0.0030</td> <td>    0.013</td> <td>    0.229</td> <td> 0.819</td> <td>   -0.023</td> <td>    0.029</td>\n",
       "</tr>\n",
       "<tr>\n",
       "  <th>C(state)[T.NJ]</th>       <td>    0.0031</td> <td>    0.013</td> <td>    0.230</td> <td> 0.818</td> <td>   -0.023</td> <td>    0.029</td>\n",
       "</tr>\n",
       "<tr>\n",
       "  <th>C(state)[T.NV]</th>       <td>    0.0067</td> <td>    0.020</td> <td>    0.341</td> <td> 0.734</td> <td>   -0.032</td> <td>    0.046</td>\n",
       "</tr>\n",
       "<tr>\n",
       "  <th>C(state)[T.NY]</th>       <td>    0.0037</td> <td>    0.012</td> <td>    0.305</td> <td> 0.761</td> <td>   -0.020</td> <td>    0.028</td>\n",
       "</tr>\n",
       "<tr>\n",
       "  <th>C(state)[T.OH]</th>       <td>    0.0020</td> <td>    0.012</td> <td>    0.163</td> <td> 0.871</td> <td>   -0.022</td> <td>    0.026</td>\n",
       "</tr>\n",
       "<tr>\n",
       "  <th>C(state)[T.OR]</th>       <td>    0.0022</td> <td>    0.015</td> <td>    0.153</td> <td> 0.878</td> <td>   -0.027</td> <td>    0.031</td>\n",
       "</tr>\n",
       "<tr>\n",
       "  <th>C(state)[T.PA]</th>       <td>    0.0019</td> <td>    0.013</td> <td>    0.149</td> <td> 0.882</td> <td>   -0.024</td> <td>    0.027</td>\n",
       "</tr>\n",
       "<tr>\n",
       "  <th>C(state)[T.RI]</th>       <td>    0.0122</td> <td>    0.020</td> <td>    0.622</td> <td> 0.535</td> <td>   -0.027</td> <td>    0.051</td>\n",
       "</tr>\n",
       "<tr>\n",
       "  <th>C(state)[T.TN]</th>       <td>    0.0012</td> <td>    0.014</td> <td>    0.085</td> <td> 0.933</td> <td>   -0.027</td> <td>    0.029</td>\n",
       "</tr>\n",
       "<tr>\n",
       "  <th>C(state)[T.TX]</th>       <td>    0.0019</td> <td>    0.013</td> <td>    0.146</td> <td> 0.884</td> <td>   -0.023</td> <td>    0.027</td>\n",
       "</tr>\n",
       "<tr>\n",
       "  <th>C(state)[T.UT]</th>       <td>    0.0012</td> <td>    0.020</td> <td>    0.060</td> <td> 0.952</td> <td>   -0.038</td> <td>    0.040</td>\n",
       "</tr>\n",
       "<tr>\n",
       "  <th>C(state)[T.VA]</th>       <td>    0.0024</td> <td>    0.013</td> <td>    0.183</td> <td> 0.855</td> <td>   -0.024</td> <td>    0.029</td>\n",
       "</tr>\n",
       "<tr>\n",
       "  <th>C(state)[T.WA]</th>       <td>    0.0056</td> <td>    0.014</td> <td>    0.415</td> <td> 0.679</td> <td>   -0.021</td> <td>    0.032</td>\n",
       "</tr>\n",
       "<tr>\n",
       "  <th>C(state)[T.WI]</th>       <td>    0.0049</td> <td>    0.015</td> <td>    0.330</td> <td> 0.742</td> <td>   -0.024</td> <td>    0.034</td>\n",
       "</tr>\n",
       "<tr>\n",
       "  <th>C(state)[T.national]</th> <td>    0.0182</td> <td>    0.013</td> <td>    1.384</td> <td> 0.168</td> <td>   -0.008</td> <td>    0.044</td>\n",
       "</tr>\n",
       "</table>\n",
       "<table class=\"simpletable\">\n",
       "<tr>\n",
       "  <th>Omnibus:</th>       <td>271.680</td> <th>  Durbin-Watson:     </th> <td>   2.030</td> \n",
       "</tr>\n",
       "<tr>\n",
       "  <th>Prob(Omnibus):</th> <td> 0.000</td>  <th>  Jarque-Bera (JB):  </th> <td>24519.227</td>\n",
       "</tr>\n",
       "<tr>\n",
       "  <th>Skew:</th>          <td> 6.668</td>  <th>  Prob(JB):          </th> <td>    0.00</td> \n",
       "</tr>\n",
       "<tr>\n",
       "  <th>Kurtosis:</th>      <td>58.276</td>  <th>  Cond. No.          </th> <td>    61.9</td> \n",
       "</tr>\n",
       "</table><br/><br/>Warnings:<br/>[1] Standard Errors assume that the covariance matrix of the errors is correctly specified."
      ],
      "text/plain": [
       "<class 'statsmodels.iolib.summary.Summary'>\n",
       "\"\"\"\n",
       "                            OLS Regression Results                            \n",
       "==============================================================================\n",
       "Dep. Variable:               indegree   R-squared:                       0.193\n",
       "Model:                            OLS   Adj. R-squared:                 -0.014\n",
       "Method:                 Least Squares   F-statistic:                    0.9314\n",
       "Date:                Sat, 02 Oct 2021   Prob (F-statistic):              0.586\n",
       "Time:                        19:06:30   Log-Likelihood:                 516.14\n",
       "No. Observations:                 182   AIC:                            -956.3\n",
       "Df Residuals:                     144   BIC:                            -834.5\n",
       "Df Model:                          37                                         \n",
       "Covariance Type:            nonrobust                                         \n",
       "========================================================================================\n",
       "                           coef    std err          t      P>|t|      [0.025      0.975]\n",
       "----------------------------------------------------------------------------------------\n",
       "Intercept               -0.0012      0.012     -0.103      0.918      -0.024       0.022\n",
       "C(type)[T.gov]           0.0054      0.005      1.008      0.315      -0.005       0.016\n",
       "C(type)[T.ngo]           0.0079      0.005      1.722      0.087      -0.001       0.017\n",
       "C(state)[T.CA]           0.0033      0.012      0.279      0.780      -0.020       0.027\n",
       "C(state)[T.CO]           0.0012      0.016      0.074      0.941      -0.031       0.033\n",
       "C(state)[T.CT]           0.0034      0.014      0.242      0.809      -0.024       0.031\n",
       "C(state)[T.DC]           0.0209      0.016      1.297      0.197      -0.011       0.053\n",
       "C(state)[T.DE]           0.0012      0.020      0.060      0.952      -0.038       0.040\n",
       "C(state)[T.FL]           0.0012      0.020      0.060      0.952      -0.038       0.040\n",
       "C(state)[T.GA]           0.0099      0.020      0.501      0.617      -0.029       0.049\n",
       "C(state)[T.HI]           0.0067      0.020      0.341      0.734      -0.032       0.046\n",
       "C(state)[T.ID]           0.0012      0.020      0.060      0.952      -0.038       0.040\n",
       "C(state)[T.IL]           0.0078      0.012      0.621      0.536      -0.017       0.032\n",
       "C(state)[T.IN]           0.0028      0.013      0.215      0.830      -0.023       0.029\n",
       "C(state)[T.KS]           0.0067      0.020      0.341      0.734      -0.032       0.046\n",
       "C(state)[T.KY]           0.0012      0.020      0.060      0.952      -0.038       0.040\n",
       "C(state)[T.LA]           0.0012      0.020      0.060      0.952      -0.038       0.040\n",
       "C(state)[T.MA]           0.0012      0.014      0.088      0.930      -0.026       0.028\n",
       "C(state)[T.MD]           0.0030      0.015      0.205      0.838      -0.026       0.032\n",
       "C(state)[T.MI]           0.0104      0.015      0.705      0.482      -0.019       0.040\n",
       "C(state)[T.MN]           0.0021      0.013      0.164      0.870      -0.023       0.028\n",
       "C(state)[T.MO]           0.0067      0.020      0.341      0.734      -0.032       0.046\n",
       "C(state)[T.MS]           0.0012      0.020      0.060      0.952      -0.038       0.040\n",
       "C(state)[T.NC]           0.0030      0.013      0.229      0.819      -0.023       0.029\n",
       "C(state)[T.NJ]           0.0031      0.013      0.230      0.818      -0.023       0.029\n",
       "C(state)[T.NV]           0.0067      0.020      0.341      0.734      -0.032       0.046\n",
       "C(state)[T.NY]           0.0037      0.012      0.305      0.761      -0.020       0.028\n",
       "C(state)[T.OH]           0.0020      0.012      0.163      0.871      -0.022       0.026\n",
       "C(state)[T.OR]           0.0022      0.015      0.153      0.878      -0.027       0.031\n",
       "C(state)[T.PA]           0.0019      0.013      0.149      0.882      -0.024       0.027\n",
       "C(state)[T.RI]           0.0122      0.020      0.622      0.535      -0.027       0.051\n",
       "C(state)[T.TN]           0.0012      0.014      0.085      0.933      -0.027       0.029\n",
       "C(state)[T.TX]           0.0019      0.013      0.146      0.884      -0.023       0.027\n",
       "C(state)[T.UT]           0.0012      0.020      0.060      0.952      -0.038       0.040\n",
       "C(state)[T.VA]           0.0024      0.013      0.183      0.855      -0.024       0.029\n",
       "C(state)[T.WA]           0.0056      0.014      0.415      0.679      -0.021       0.032\n",
       "C(state)[T.WI]           0.0049      0.015      0.330      0.742      -0.024       0.034\n",
       "C(state)[T.national]     0.0182      0.013      1.384      0.168      -0.008       0.044\n",
       "==============================================================================\n",
       "Omnibus:                      271.680   Durbin-Watson:                   2.030\n",
       "Prob(Omnibus):                  0.000   Jarque-Bera (JB):            24519.227\n",
       "Skew:                           6.668   Prob(JB):                         0.00\n",
       "Kurtosis:                      58.276   Cond. No.                         61.9\n",
       "==============================================================================\n",
       "\n",
       "Warnings:\n",
       "[1] Standard Errors assume that the covariance matrix of the errors is correctly specified.\n",
       "\"\"\""
      ]
     },
     "execution_count": 164,
     "metadata": {},
     "output_type": "execute_result"
    }
   ],
   "source": [
    "# Which organization has the largest indegree centrality in the mention network?\n",
    "x=nx.in_degree_centrality(G)\n",
    "\n",
    "cent=pd.DataFrame(x.items(),columns=['screen_name', 'indegree']) \n",
    "cent=pd.merge(cent, cov, on='screen_name',how=\"left\")\n",
    "len(cent)\n",
    "\n",
    "# can test with a simple regression\n",
    "import statsmodels.formula.api as smf\n",
    "model = smf.ols(formula = 'indegree ~  C(type)+C(state)', \\\n",
    "                   data = cent).fit();\n",
    "model.summary()"
   ]
  },
  {
   "cell_type": "code",
   "execution_count": null,
   "metadata": {},
   "outputs": [],
   "source": []
  }
 ],
 "metadata": {
  "kernelspec": {
   "display_name": "Python 3 (ipykernel)",
   "language": "python",
   "name": "python3"
  },
  "language_info": {
   "codemirror_mode": {
    "name": "ipython",
    "version": 3
   },
   "file_extension": ".py",
   "mimetype": "text/x-python",
   "name": "python",
   "nbconvert_exporter": "python",
   "pygments_lexer": "ipython3",
   "version": "3.9.7"
  }
 },
 "nbformat": 4,
 "nbformat_minor": 4
}
